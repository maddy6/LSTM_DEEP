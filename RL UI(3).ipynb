{
 "cells": [
  {
   "cell_type": "code",
   "execution_count": 10,
   "id": "5bf3992d",
   "metadata": {},
   "outputs": [
    {
     "name": "stdout",
     "output_type": "stream",
     "text": [
      "  Category Count\n",
      "0        A    20\n",
      "1        B    40\n",
      "2        B    50\n"
     ]
    },
    {
     "name": "stderr",
     "output_type": "stream",
     "text": [
      "C:\\Users\\pixel\\AppData\\Local\\Temp\\ipykernel_16036\\2812082338.py:29: FutureWarning: The frame.append method is deprecated and will be removed from pandas in a future version. Use pandas.concat instead.\n",
      "  sampled_df = sampled_df.append(sampled_rows)\n",
      "C:\\Users\\pixel\\AppData\\Local\\Temp\\ipykernel_16036\\2812082338.py:29: FutureWarning: The frame.append method is deprecated and will be removed from pandas in a future version. Use pandas.concat instead.\n",
      "  sampled_df = sampled_df.append(sampled_rows)\n",
      "C:\\Users\\pixel\\AppData\\Local\\Temp\\ipykernel_16036\\2812082338.py:29: FutureWarning: The frame.append method is deprecated and will be removed from pandas in a future version. Use pandas.concat instead.\n",
      "  sampled_df = sampled_df.append(sampled_rows)\n"
     ]
    }
   ],
   "source": [
    "import pandas as pd\n",
    "\n",
    "# Create a sample DataFrame\n",
    "data = {\n",
    "    'Category': ['A', 'A', 'B', 'B', 'B', 'C', 'C', 'C', 'C', 'C'],\n",
    "    'Count': [10, 20, 30, 40, 50, 60, 70, 80, 90, 100]\n",
    "}\n",
    "df = pd.DataFrame(data)\n",
    "\n",
    "import pandas as pd\n",
    "\n",
    "# Assuming you have a DataFrame named 'df' with 'Category' and 'Sum' columns\n",
    "\n",
    "# Define the sampling percentages for each category\n",
    "sampling_percentages = {'A': 0.4, 'B': 0.5, 'C': 0.1}\n",
    "\n",
    "# Create an empty DataFrame to store the sampled data\n",
    "sampled_df = pd.DataFrame(columns=df.columns)\n",
    "\n",
    "# Iterate over each category\n",
    "for category, percentage in sampling_percentages.items():\n",
    "    # Filter rows for the current category\n",
    "    category_data = df[df['Category'] == category]\n",
    "    \n",
    "    # Sample the required percentage of rows\n",
    "    sampled_rows = category_data.sample(frac=percentage)\n",
    "    \n",
    "    # Append the sampled rows to the sampled DataFrame\n",
    "    sampled_df = sampled_df.append(sampled_rows)\n",
    "\n",
    "# Reset the index of the sampled DataFrame\n",
    "sampled_df.reset_index(drop=True, inplace=True)\n",
    "\n",
    "# Now 'sampled_df' contains the sampled data based on the specified percentages\n",
    "print(sampled_df)\n"
   ]
  },
  {
   "cell_type": "code",
   "execution_count": null,
   "id": "d94e77ee",
   "metadata": {},
   "outputs": [],
   "source": []
  },
  {
   "cell_type": "code",
   "execution_count": 13,
   "id": "af2aec0a",
   "metadata": {},
   "outputs": [],
   "source": [
    "import tkinter as tk\n",
    "\n",
    "def recommend_offer_combined(Q_first, Q_second, customer_id, combined_dataset):\n",
    "    # Placeholder function, replace with your implementation\n",
    "    # This function should return the recommended offers\n",
    "    return [(\"Sample Product\", 8.0, 12.0)]\n",
    "\n",
    "def recommend_button_clicked():\n",
    "    # Get customer information from the input field\n",
    "    customer_id = int(customer_id_entry.get())\n",
    "    \n",
    "    # Call the recommend_offer_combined function\n",
    "    recommended_offers = recommend_offer_combined(None, None, customer_id, None)\n",
    "    \n",
    "    # Display the recommended offers\n",
    "    result_label.config(text=f\"Recommended Offers: {recommended_offers}\")\n",
    "\n",
    "# Create the main window\n",
    "window = tk.Tk()\n",
    "window.title(\"Offer Recommendation System\")\n",
    "\n",
    "# Add the company name label in bold\n",
    "company_label = tk.Label(window, text=\"Company Name\", font=(\"CitiCorp Fx Product Recoomder System\", 25, \"bold\"))\n",
    "company_label.pack(pady=10)\n",
    "\n",
    "# Create and pack the input field\n",
    "customer_id_label = tk.Label(window, text=\"Customer ID:\")\n",
    "customer_id_label.pack()\n",
    "customer_id_entry = tk.Entry(window)\n",
    "customer_id_entry.pack()\n",
    "\n",
    "# Create the recommend button\n",
    "recommend_button = tk.Button(window, text=\"Recommend Offers\", command=recommend_button_clicked)\n",
    "recommend_button.pack(pady=10)\n",
    "\n",
    "# Create the label to display the recommendation result\n",
    "result_label = tk.Label(window, text=\"\")\n",
    "result_label.pack(pady=10)\n",
    "\n",
    "# Start the GUI event loop\n",
    "window.mainloop()\n"
   ]
  },
  {
   "cell_type": "code",
   "execution_count": null,
   "id": "d5bab003",
   "metadata": {},
   "outputs": [],
   "source": []
  },
  {
   "cell_type": "code",
   "execution_count": 14,
   "id": "e0364397",
   "metadata": {},
   "outputs": [],
   "source": [
    "import tkinter as tk\n",
    "\n",
    "def recommend_offer_combined(Q_first, Q_second, customer_id, combined_dataset):\n",
    "    # Placeholder function, replace with your implementation\n",
    "    # This function should return the recommended offers\n",
    "    return [(\"Sample Product\", 8.0, 12.0)]\n",
    "\n",
    "def recommend_button_clicked():\n",
    "    # Get customer information from the input field\n",
    "    customer_id = int(customer_id_entry.get())\n",
    "    \n",
    "    # Call the recommend_offer_combined function\n",
    "    recommended_offers = recommend_offer_combined(None, None, customer_id, None)\n",
    "    \n",
    "    # Display the recommended offers\n",
    "    result_label.config(text=f\"Recommended Offers: {recommended_offers}\")\n",
    "\n",
    "# Create the main window\n",
    "window = tk.Tk()\n",
    "window.title(\"Offer Recommendation System\")\n",
    "\n",
    "# Add the company name label in bold\n",
    "company_label = tk.Label(window, text=\"Company Name\", font=(\"Helvetica\", 16, \"bold\"))\n",
    "company_label.pack(pady=10)\n",
    "\n",
    "# Create and pack the input field\n",
    "customer_id_label = tk.Label(window, text=\"Customer ID:\")\n",
    "customer_id_label.pack()\n",
    "customer_id_entry = tk.Entry(window)\n",
    "customer_id_entry.pack()\n",
    "\n",
    "# Create the recommend button with blue text color\n",
    "recommend_button = tk.Label(window, text=\"Recommend Offers\", fg=\"blue\", cursor=\"hand2\")\n",
    "recommend_button.pack(pady=10)\n",
    "recommend_button.bind(\"<Button-1>\", lambda event: recommend_button_clicked())\n",
    "\n",
    "# Create the label to display the recommendation result\n",
    "result_label = tk.Label(window, text=\"\")\n",
    "result_label.pack(pady=10)\n",
    "\n",
    "# Start the GUI event loop\n",
    "window.mainloop()\n"
   ]
  },
  {
   "cell_type": "code",
   "execution_count": null,
   "id": "4add70bb",
   "metadata": {},
   "outputs": [],
   "source": []
  },
  {
   "cell_type": "code",
   "execution_count": 16,
   "id": "b3fe1fda",
   "metadata": {},
   "outputs": [
    {
     "name": "stderr",
     "output_type": "stream",
     "text": [
      "Exception in Tkinter callback\n",
      "Traceback (most recent call last):\n",
      "  File \"C:\\Users\\pixel\\anaconda3\\lib\\tkinter\\__init__.py\", line 1921, in __call__\n",
      "    return self.func(*args)\n",
      "  File \"C:\\Users\\pixel\\AppData\\Local\\Temp\\ipykernel_16036\\3319498898.py\", line 37, in <lambda>\n",
      "    recommend_button.bind(\"<Button-1>\", lambda event: recommend_button_clicked())\n",
      "  File \"C:\\Users\\pixel\\AppData\\Local\\Temp\\ipykernel_16036\\3319498898.py\", line 10, in recommend_button_clicked\n",
      "    customer_id = int(customer_id_entry.get())\n",
      "ValueError: invalid literal for int() with base 10: ''\n"
     ]
    }
   ],
   "source": [
    "import tkinter as tk\n",
    "\n",
    "def recommend_offer_combined(Q_first, Q_second, customer_id, combined_dataset):\n",
    "    # Placeholder function, replace with your implementation\n",
    "    # This function should return the recommended offers\n",
    "    return [(\"Sample Product\", 8.0, 12.0)]\n",
    "\n",
    "def recommend_button_clicked():\n",
    "    # Get customer information from the input field\n",
    "    customer_id = int(customer_id_entry.get())\n",
    "    \n",
    "    # Call the recommend_offer_combined function\n",
    "    recommended_offers = recommend_offer_combined(None, None, customer_id, None)\n",
    "    \n",
    "    # Display the recommended offers\n",
    "    result_label.config(text=f\"Recommended Offers: {recommended_offers}\")\n",
    "\n",
    "# Create the main window\n",
    "window = tk.Tk()\n",
    "window.title(\"Offer Recommendation System\")\n",
    "\n",
    "# Add rectangle around the window title with red color\n",
    "title_frame = tk.Frame(window, bg=\"red\", relief=tk.RAISED, bd=2)\n",
    "title_frame.pack(pady=10)\n",
    "company_label = tk.Label(title_frame, text=\"Citi Corp RL System\", font=(\"Helvetica\", 16, \"bold\"))\n",
    "company_label.pack()\n",
    "\n",
    "# Create and pack the input field\n",
    "customer_id_label = tk.Label(window, text=\"Customer ID:\")\n",
    "customer_id_label.pack()\n",
    "customer_id_entry = tk.Entry(window)\n",
    "customer_id_entry.pack()\n",
    "\n",
    "# Create the recommend button with blue text color\n",
    "recommend_button = tk.Label(window, text=\"Recommend Offers\", fg=\"blue\", cursor=\"hand2\")\n",
    "recommend_button.pack(pady=10)\n",
    "recommend_button.bind(\"<Button-1>\", lambda event: recommend_button_clicked())\n",
    "\n",
    "# Create the label to display the recommendation result\n",
    "result_label = tk.Label(window, text=\"\")\n",
    "result_label.pack(pady=10)\n",
    "\n",
    "# Start the GUI event loop\n",
    "window.mainloop()\n"
   ]
  },
  {
   "cell_type": "code",
   "execution_count": null,
   "id": "e1919062",
   "metadata": {},
   "outputs": [],
   "source": []
  },
  {
   "cell_type": "code",
   "execution_count": null,
   "id": "cef43caf",
   "metadata": {},
   "outputs": [],
   "source": []
  },
  {
   "cell_type": "code",
   "execution_count": null,
   "id": "9d97cfc7",
   "metadata": {},
   "outputs": [],
   "source": []
  },
  {
   "cell_type": "code",
   "execution_count": null,
   "id": "d54bc262",
   "metadata": {},
   "outputs": [],
   "source": []
  },
  {
   "cell_type": "code",
   "execution_count": 18,
   "id": "dea987fd",
   "metadata": {},
   "outputs": [
    {
     "name": "stderr",
     "output_type": "stream",
     "text": [
      "Exception in Tkinter callback\n",
      "Traceback (most recent call last):\n",
      "  File \"C:\\Users\\pixel\\anaconda3\\lib\\tkinter\\__init__.py\", line 1921, in __call__\n",
      "    return self.func(*args)\n",
      "  File \"C:\\Users\\pixel\\AppData\\Local\\Temp\\ipykernel_16036\\2447319557.py\", line 12, in show_offers\n",
      "    recommended_offers = recommend_offer(Q, customer_id, threshold)\n",
      "NameError: name 'Q' is not defined\n"
     ]
    }
   ],
   "source": [
    "import tkinter as tk\n",
    "\n",
    "# Function to recommend the next offer based on Q-tables\n",
    "def recommend_offer(Q, customer_id, threshold):\n",
    "    # Function logic goes here\n",
    "    pass\n",
    "\n",
    "# Function to show recommended offers\n",
    "def show_offers():\n",
    "    customer_id = int(customer_id_entry.get())  # Get customer ID from the entry widget\n",
    "    threshold = 3  # Replace with the desired threshold value\n",
    "    recommended_offers = recommend_offer(Q, customer_id, threshold)\n",
    "\n",
    "    # If the threshold is reached, show only the default offer\n",
    "    if len(recommended_offers) >= threshold:\n",
    "        result_label.config(text=f\"Recommended Offer: {default_product} - Interest Rate: {default_interest_rate} - Tenor: {default_tenor}\")\n",
    "    else:\n",
    "        result_label.config(text=\"Recommended Offers:\\n\" + \"\\n\".join([f\"{i+1}. Product: {offer[0]} - Interest Rate: {offer[1]} - Tenor: {offer[2]}\" for i, offer in enumerate(recommended_offers)]))\n",
    "\n",
    "# Tkinter setup\n",
    "root = tk.Tk()\n",
    "root.title(\"Offer Recommendation System\")\n",
    "\n",
    "# Main label\n",
    "label = tk.Label(root, text=\"Welcome to the Offer Recommendation System!\")\n",
    "label.pack(pady=10)\n",
    "\n",
    "# Entry widget for customer ID\n",
    "customer_id_label = tk.Label(root, text=\"Enter Customer ID:\")\n",
    "customer_id_label.pack()\n",
    "customer_id_entry = tk.Entry(root)\n",
    "customer_id_entry.pack(pady=5)\n",
    "\n",
    "# Button to show offers\n",
    "show_button = tk.Button(root, text=\"Show Offers\", command=show_offers)\n",
    "show_button.pack(pady=5)\n",
    "\n",
    "# Label to display result\n",
    "result_label = tk.Label(root, text=\"\")\n",
    "result_label.pack(pady=5)\n",
    "\n",
    "# Function to close the window\n",
    "def close_window():\n",
    "    root.destroy()\n",
    "\n",
    "# Button to exit\n",
    "exit_button = tk.Button(root, text=\"Exit\", command=close_window)\n",
    "exit_button.pack(pady=5)\n",
    "\n",
    "# Run the Tkinter event loop\n",
    "root.mainloop()\n"
   ]
  },
  {
   "cell_type": "code",
   "execution_count": null,
   "id": "97453092",
   "metadata": {},
   "outputs": [],
   "source": []
  },
  {
   "cell_type": "code",
   "execution_count": null,
   "id": "f123dc0c",
   "metadata": {},
   "outputs": [],
   "source": []
  },
  {
   "cell_type": "code",
   "execution_count": 19,
   "id": "56cf21ae",
   "metadata": {},
   "outputs": [
    {
     "data": {
      "application/vnd.jupyter.widget-view+json": {
       "model_id": "1533c781eaf5470c8bf7318b5f4e84b4",
       "version_major": 2,
       "version_minor": 0
      },
      "text/plain": [
       "Label(value='<b>Company Name</b>', layout=Layout(margin='10px 0'))"
      ]
     },
     "metadata": {},
     "output_type": "display_data"
    },
    {
     "data": {
      "application/vnd.jupyter.widget-view+json": {
       "model_id": "cbedd31cabc5487ba4ed31a0f54471d5",
       "version_major": 2,
       "version_minor": 0
      },
      "text/plain": [
       "Label(value='Customer ID:')"
      ]
     },
     "metadata": {},
     "output_type": "display_data"
    },
    {
     "data": {
      "application/vnd.jupyter.widget-view+json": {
       "model_id": "b2765077195645fab6ebf0c95b5341d9",
       "version_major": 2,
       "version_minor": 0
      },
      "text/plain": [
       "Text(value='')"
      ]
     },
     "metadata": {},
     "output_type": "display_data"
    },
    {
     "data": {
      "application/vnd.jupyter.widget-view+json": {
       "model_id": "411ccd804ee24c59827cb86d603d1a1f",
       "version_major": 2,
       "version_minor": 0
      },
      "text/plain": [
       "Button(description='Recommend Offers', style=ButtonStyle())"
      ]
     },
     "metadata": {},
     "output_type": "display_data"
    },
    {
     "data": {
      "application/vnd.jupyter.widget-view+json": {
       "model_id": "9832f61eb525427ca067e61f34b8d291",
       "version_major": 2,
       "version_minor": 0
      },
      "text/plain": [
       "HTML(value='')"
      ]
     },
     "metadata": {},
     "output_type": "display_data"
    }
   ],
   "source": [
    "import ipywidgets as widgets\n",
    "from IPython.display import display\n",
    "\n",
    "def recommend_offer_combined(Q_first, Q_second, customer_id, combined_dataset):\n",
    "    # Placeholder function, replace with your implementation\n",
    "    # This function should return the recommended offers\n",
    "    return [(\"Sample Product\", 8.0, 12.0)]\n",
    "\n",
    "def recommend_button_clicked(button):\n",
    "    # Get customer information from the input field\n",
    "    customer_id = int(customer_id_text.value)\n",
    "    \n",
    "    # Call the recommend_offer_combined function\n",
    "    recommended_offers = recommend_offer_combined(None, None, customer_id, None)\n",
    "    \n",
    "    # Display the recommended offers\n",
    "    result_label.value = f\"Recommended Offers: {recommended_offers}\"\n",
    "\n",
    "# Create the UI elements\n",
    "company_label = widgets.Label(value=\"<b>Company Name</b>\", layout=widgets.Layout(margin='10px 0'))\n",
    "customer_id_label = widgets.Label(value=\"Customer ID:\")\n",
    "customer_id_text = widgets.Text()\n",
    "recommend_button = widgets.Button(description=\"Recommend Offers\")\n",
    "recommend_button.on_click(recommend_button_clicked)\n",
    "result_label = widgets.HTML()\n",
    "\n",
    "# Display the UI elements\n",
    "display(company_label)\n",
    "display(customer_id_label)\n",
    "display(customer_id_text)\n",
    "display(recommend_button)\n",
    "display(result_label)\n"
   ]
  },
  {
   "cell_type": "code",
   "execution_count": null,
   "id": "0adce0e5",
   "metadata": {},
   "outputs": [],
   "source": []
  },
  {
   "cell_type": "code",
   "execution_count": 20,
   "id": "808087d2",
   "metadata": {},
   "outputs": [
    {
     "data": {
      "application/vnd.jupyter.widget-view+json": {
       "model_id": "3209a77ee2ad4166a468efbaf4f65b0d",
       "version_major": 2,
       "version_minor": 0
      },
      "text/plain": [
       "HTML(value='<h1><b>Company Name</b></h1>', layout=Layout(margin='0 0 20px 0'))"
      ]
     },
     "metadata": {},
     "output_type": "display_data"
    },
    {
     "data": {
      "application/vnd.jupyter.widget-view+json": {
       "model_id": "8bf00320850d4c57af71c24a7fa1a764",
       "version_major": 2,
       "version_minor": 0
      },
      "text/plain": [
       "Label(value='Customer ID:')"
      ]
     },
     "metadata": {},
     "output_type": "display_data"
    },
    {
     "data": {
      "application/vnd.jupyter.widget-view+json": {
       "model_id": "63dbf1cd779f48b78c48f75856ac6758",
       "version_major": 2,
       "version_minor": 0
      },
      "text/plain": [
       "Text(value='')"
      ]
     },
     "metadata": {},
     "output_type": "display_data"
    },
    {
     "data": {
      "application/vnd.jupyter.widget-view+json": {
       "model_id": "65350fc2b4054ebea903a7ab319359ef",
       "version_major": 2,
       "version_minor": 0
      },
      "text/plain": [
       "Button(description='Recommend Offers', style=ButtonStyle())"
      ]
     },
     "metadata": {},
     "output_type": "display_data"
    },
    {
     "data": {
      "application/vnd.jupyter.widget-view+json": {
       "model_id": "2baa79d757714be784ba235a81f820cf",
       "version_major": 2,
       "version_minor": 0
      },
      "text/plain": [
       "HTML(value='')"
      ]
     },
     "metadata": {},
     "output_type": "display_data"
    }
   ],
   "source": [
    "import ipywidgets as widgets\n",
    "from IPython.display import display\n",
    "\n",
    "def recommend_offer_combined(Q_first, Q_second, customer_id, combined_dataset):\n",
    "    # Placeholder function, replace with your implementation\n",
    "    # This function should return the recommended offers\n",
    "    return [(\"Sample Product\", 8.0, 12.0)]\n",
    "\n",
    "def recommend_button_clicked(b):\n",
    "    # Get customer information from the input field\n",
    "    customer_id = int(customer_id_text.value)\n",
    "    \n",
    "    # Call the recommend_offer_combined function\n",
    "    recommended_offers = recommend_offer_combined(None, None, customer_id, None)\n",
    "    \n",
    "    # Display the recommended offers\n",
    "    result_label.value = f\"<b>Recommended Offers:</b> {recommended_offers}\"\n",
    "\n",
    "# Create the UI elements\n",
    "company_label = widgets.HTML(value=\"<h1><b>Company Name</b></h1>\")\n",
    "customer_id_label = widgets.Label(value=\"Customer ID:\")\n",
    "customer_id_text = widgets.Text()\n",
    "recommend_button = widgets.Button(description=\"Recommend Offers\")\n",
    "result_label = widgets.HTML()\n",
    "\n",
    "# Style UI elements\n",
    "company_label.layout.margin = '0 0 20px 0'\n",
    "\n",
    "# Assign callback function to button click event\n",
    "recommend_button.on_click(recommend_button_clicked)\n",
    "\n",
    "# Display the UI elements\n",
    "display(company_label)\n",
    "display(customer_id_label, customer_id_text)\n",
    "display(recommend_button)\n",
    "display(result_label)\n"
   ]
  },
  {
   "cell_type": "code",
   "execution_count": null,
   "id": "7f8e7d9d",
   "metadata": {},
   "outputs": [],
   "source": []
  },
  {
   "cell_type": "code",
   "execution_count": 21,
   "id": "9684a61e",
   "metadata": {},
   "outputs": [],
   "source": [
    "import tkinter as tk\n",
    "from tkinter import ttk\n",
    "\n",
    "def recommend_offer_combined(Q_first, Q_second, customer_id, combined_dataset):\n",
    "    # Placeholder function, replace with your implementation\n",
    "    # This function should return the recommended offers\n",
    "    return [(\"Sample Product\", 8.0, 12.0)]\n",
    "\n",
    "def recommend_button_clicked():\n",
    "    # Get customer information from the input field\n",
    "    customer_id = int(customer_id_entry.get())\n",
    "    \n",
    "    # Call the recommend_offer_combined function\n",
    "    recommended_offers = recommend_offer_combined(None, None, customer_id, None)\n",
    "    \n",
    "    # Display the recommended offers\n",
    "    result_label.config(text=f\"Recommended Offers: {recommended_offers}\")\n",
    "\n",
    "# Create the main window\n",
    "window = tk.Tk()\n",
    "window.title(\"Offer Recommendation System\")\n",
    "\n",
    "# Add the company name label in bold\n",
    "company_label = tk.Label(window, text=\"Company Name\", font=(\"Helvetica\", 16, \"bold\"))\n",
    "company_label.pack(pady=10)\n",
    "\n",
    "# Create and pack the input field\n",
    "customer_id_label = tk.Label(window, text=\"Customer ID:\")\n",
    "customer_id_label.pack()\n",
    "customer_id_entry = tk.Entry(window)\n",
    "customer_id_entry.pack()\n",
    "\n",
    "# Create the recommend button with blue text color\n",
    "recommend_button = tk.Button(window, text=\"Recommend Offers\", command=recommend_button_clicked)\n",
    "recommend_button.pack(pady=10)\n",
    "\n",
    "# Create the label to display the recommendation result\n",
    "result_label = tk.Label(window, text=\"\")\n",
    "result_label.pack(pady=10)\n",
    "\n",
    "# Start the GUI event loop\n",
    "window.mainloop()\n"
   ]
  },
  {
   "cell_type": "code",
   "execution_count": null,
   "id": "c5c0c779",
   "metadata": {},
   "outputs": [],
   "source": []
  },
  {
   "cell_type": "code",
   "execution_count": null,
   "id": "63db06de",
   "metadata": {},
   "outputs": [],
   "source": []
  },
  {
   "cell_type": "code",
   "execution_count": 24,
   "id": "1bdedd03",
   "metadata": {},
   "outputs": [
    {
     "name": "stdout",
     "output_type": "stream",
     "text": [
      " * Serving Flask app '__main__'\n",
      " * Debug mode: off\n"
     ]
    },
    {
     "name": "stderr",
     "output_type": "stream",
     "text": [
      "WARNING: This is a development server. Do not use it in a production deployment. Use a production WSGI server instead.\n",
      " * Running on http://127.0.0.1:5000\n",
      "Press CTRL+C to quit\n"
     ]
    }
   ],
   "source": [
    "from flask import Flask\n",
    "\n",
    "# Create a Flask app\n",
    "app = Flask(__name__)\n",
    "\n",
    "# Define a route for the home page\n",
    "@app.route('/')\n",
    "def home():\n",
    "    return 'Hello, World! This is a Flask app running in a Jupyter Notebook.'\n",
    "\n",
    "# Run the Flask app\n",
    "if __name__ == '__main__':\n",
    "    app.run(debug=False)\n"
   ]
  },
  {
   "cell_type": "code",
   "execution_count": null,
   "id": "91d81626",
   "metadata": {},
   "outputs": [],
   "source": []
  },
  {
   "cell_type": "code",
   "execution_count": 23,
   "id": "44e50eab",
   "metadata": {},
   "outputs": [
    {
     "name": "stdout",
     "output_type": "stream",
     "text": [
      " * Serving Flask app '__main__'\n",
      " * Debug mode: off\n"
     ]
    },
    {
     "name": "stderr",
     "output_type": "stream",
     "text": [
      "WARNING: This is a development server. Do not use it in a production deployment. Use a production WSGI server instead.\n",
      " * Running on http://127.0.0.1:5000\n",
      "Press CTRL+C to quit\n"
     ]
    }
   ],
   "source": [
    "from flask import Flask, request, jsonify\n",
    "\n",
    "# Define your recommend_offer_combined function\n",
    "def recommend_offer_combined(Q_first, Q_second, customer_id, combined_dataset):\n",
    "    # Placeholder function, replace with your implementation\n",
    "    # This function should return the recommended offers\n",
    "    return [(\"Sample Product\", 8.0, 12.0)]\n",
    "\n",
    "# Create a Flask app\n",
    "app = Flask(__name__)\n",
    "\n",
    "# Define a route to recommend offers\n",
    "@app.route('/recommend-offers')\n",
    "def recommend_offers():\n",
    "    # Get the customer ID from the query parameters\n",
    "    customer_id = int(request.args.get('customer_id'))\n",
    "    \n",
    "    # Call the recommend_offer_combined function\n",
    "    recommended_offers = recommend_offer_combined(None, None, customer_id, None)\n",
    "    \n",
    "    # Return the recommended offers as JSON\n",
    "    return jsonify(recommended_offers)\n",
    "\n",
    "# Run the Flask app\n",
    "if __name__ == '__main__':\n",
    "    app.run(debug=False)\n"
   ]
  },
  {
   "cell_type": "code",
   "execution_count": null,
   "id": "75a810d8",
   "metadata": {},
   "outputs": [],
   "source": []
  },
  {
   "cell_type": "code",
   "execution_count": 25,
   "id": "2c3cf3bc",
   "metadata": {},
   "outputs": [
    {
     "name": "stdout",
     "output_type": "stream",
     "text": [
      " * Serving Flask app '__main__'\n",
      " * Debug mode: off\n"
     ]
    },
    {
     "name": "stderr",
     "output_type": "stream",
     "text": [
      "WARNING: This is a development server. Do not use it in a production deployment. Use a production WSGI server instead.\n",
      " * Running on http://127.0.0.1:5001\n",
      "Press CTRL+C to quit\n",
      "127.0.0.1 - - [26/Apr/2024 21:59:17] \"GET / HTTP/1.1\" 404 -\n",
      "127.0.0.1 - - [26/Apr/2024 21:59:17] \"GET /favicon.ico HTTP/1.1\" 404 -\n"
     ]
    }
   ],
   "source": [
    "from flask import Flask, request, jsonify\n",
    "\n",
    "# Define your recommend_offer_combined function\n",
    "def recommend_offer_combined(Q_first, Q_second, customer_id, combined_dataset):\n",
    "    # Placeholder function, replace with your implementation\n",
    "    # This function should return the recommended offers\n",
    "    return [(\"Sample Product\", 8.0, 12.0)]\n",
    "\n",
    "# Create a Flask app\n",
    "app = Flask(__name__)\n",
    "\n",
    "# Define a route to recommend offers for a specific customer ID\n",
    "@app.route('/recommend-offers')\n",
    "def recommend_offers():\n",
    "    # Get the customer ID from the query parameters\n",
    "    customer_id = int(request.args.get('customer_id'))\n",
    "    \n",
    "    # Call the recommend_offer_combined function\n",
    "    recommended_offers = recommend_offer_combined(None, None, customer_id, None)\n",
    "    \n",
    "    # Return the recommended offers as JSON\n",
    "    return jsonify(recommended_offers)\n",
    "\n",
    "# Run the Flask app on http://127.0.0.1:5001\n",
    "if __name__ == '__main__':\n",
    "    app.run(host='127.0.0.1', port=5001, debug=False)\n"
   ]
  },
  {
   "cell_type": "code",
   "execution_count": null,
   "id": "fdda3b32",
   "metadata": {},
   "outputs": [],
   "source": []
  },
  {
   "cell_type": "code",
   "execution_count": null,
   "id": "8d5ced40",
   "metadata": {},
   "outputs": [],
   "source": []
  },
  {
   "cell_type": "code",
   "execution_count": 26,
   "id": "e41bc4cc",
   "metadata": {},
   "outputs": [
    {
     "data": {
      "application/vnd.jupyter.widget-view+json": {
       "model_id": "388ea870c93f454da723942475e58721",
       "version_major": 2,
       "version_minor": 0
      },
      "text/plain": [
       "Label(value='<b>Company Name</b>', layout=Layout(margin='10px 0'))"
      ]
     },
     "metadata": {},
     "output_type": "display_data"
    },
    {
     "data": {
      "application/vnd.jupyter.widget-view+json": {
       "model_id": "ae07879e262746febe2cc035c45ffe6a",
       "version_major": 2,
       "version_minor": 0
      },
      "text/plain": [
       "Label(value='Customer ID:')"
      ]
     },
     "metadata": {},
     "output_type": "display_data"
    },
    {
     "data": {
      "application/vnd.jupyter.widget-view+json": {
       "model_id": "d5f8f74a41df46809283609178079ebd",
       "version_major": 2,
       "version_minor": 0
      },
      "text/plain": [
       "Text(value='')"
      ]
     },
     "metadata": {},
     "output_type": "display_data"
    },
    {
     "data": {
      "application/vnd.jupyter.widget-view+json": {
       "model_id": "adb6424b7ae844d7891fa6275cd72cf4",
       "version_major": 2,
       "version_minor": 0
      },
      "text/plain": [
       "Button(description='Recommend Offers', style=ButtonStyle())"
      ]
     },
     "metadata": {},
     "output_type": "display_data"
    },
    {
     "data": {
      "application/vnd.jupyter.widget-view+json": {
       "model_id": "b6451735a74249f1be67fcda6a89a594",
       "version_major": 2,
       "version_minor": 0
      },
      "text/plain": [
       "HTML(value='')"
      ]
     },
     "metadata": {},
     "output_type": "display_data"
    }
   ],
   "source": [
    "import ipywidgets as widgets\n",
    "from IPython.display import display\n",
    "\n",
    "def recommend_offer_combined(Q_first, Q_second, customer_id, combined_dataset):\n",
    "    # Placeholder function, replace with your implementation\n",
    "    # This function should return the recommended offers\n",
    "    return [(\"Sample Product\", 8.0, 12.0)]\n",
    "\n",
    "def recommend_button_clicked(button):\n",
    "    # Get customer information from the input field\n",
    "    customer_id = int(customer_id_text.value)\n",
    "    \n",
    "    # Call the recommend_offer_combined function\n",
    "    recommended_offers = recommend_offer_combined(None, None, customer_id, None)\n",
    "    \n",
    "    # Display the recommended offers\n",
    "    result_label.value = f\"Recommended Offers: {recommended_offers}\"\n",
    "\n",
    "# Create the UI elements\n",
    "company_label = widgets.Label(value=\"<b>Company Name</b>\", layout=widgets.Layout(margin='10px 0'))\n",
    "customer_id_label = widgets.Label(value=\"Customer ID:\")\n",
    "customer_id_text = widgets.Text()\n",
    "recommend_button = widgets.Button(description=\"Recommend Offers\")\n",
    "recommend_button.on_click(recommend_button_clicked)\n",
    "result_label = widgets.HTML()\n",
    "\n",
    "# Display the UI elements\n",
    "display(company_label)\n",
    "display(customer_id_label)\n",
    "display(customer_id_text)\n",
    "display(recommend_button)\n",
    "display(result_label)\n"
   ]
  },
  {
   "cell_type": "code",
   "execution_count": null,
   "id": "5b9a6a40",
   "metadata": {},
   "outputs": [],
   "source": []
  },
  {
   "cell_type": "code",
   "execution_count": 28,
   "id": "81c0dfb3",
   "metadata": {},
   "outputs": [
    {
     "data": {
      "application/vnd.jupyter.widget-view+json": {
       "model_id": "f1b355932ddb4d18916800e33480870f",
       "version_major": 2,
       "version_minor": 0
      },
      "text/plain": [
       "HTML(value='<h1><b>Company Name</b></h1>', layout=Layout(margin='0 0 20px 0'))"
      ]
     },
     "metadata": {},
     "output_type": "display_data"
    },
    {
     "data": {
      "application/vnd.jupyter.widget-view+json": {
       "model_id": "b5fdea38ca5145b2ae9c7cabc1b7533d",
       "version_major": 2,
       "version_minor": 0
      },
      "text/plain": [
       "Label(value='Customer ID:')"
      ]
     },
     "metadata": {},
     "output_type": "display_data"
    },
    {
     "data": {
      "application/vnd.jupyter.widget-view+json": {
       "model_id": "a69c800537894908b4096b5ed7be7f3e",
       "version_major": 2,
       "version_minor": 0
      },
      "text/plain": [
       "Text(value='')"
      ]
     },
     "metadata": {},
     "output_type": "display_data"
    },
    {
     "data": {
      "application/vnd.jupyter.widget-view+json": {
       "model_id": "362b7238a7fc4dc38992b76c12fbd1f4",
       "version_major": 2,
       "version_minor": 0
      },
      "text/plain": [
       "Button(description='Recommend Offers', style=ButtonStyle())"
      ]
     },
     "metadata": {},
     "output_type": "display_data"
    },
    {
     "data": {
      "application/vnd.jupyter.widget-view+json": {
       "model_id": "c6d1b529cf4744c5a34b65645161777e",
       "version_major": 2,
       "version_minor": 0
      },
      "text/plain": [
       "HTML(value='')"
      ]
     },
     "metadata": {},
     "output_type": "display_data"
    }
   ],
   "source": [
    "import ipywidgets as widgets\n",
    "from IPython.display import display\n",
    "\n",
    "def recommend_offer_combined(Q_first, Q_second, customer_id, combined_dataset):\n",
    "    # Placeholder function, replace with your implementation\n",
    "    # This function should return the recommended offers\n",
    "    return [(\"Sample Product\", 8.0, 12.0)]\n",
    "\n",
    "def recommend_button_clicked(b):\n",
    "    # Get customer information from the input field\n",
    "    customer_id = int(customer_id_text.value)\n",
    "    \n",
    "    # Call the recommend_offer_combined function\n",
    "    recommended_offers = recommend_offer_combined(None, None, customer_id, None)\n",
    "    \n",
    "    # Display the recommended offers\n",
    "    result_label.value = f\"<b>Recommended Offers:</b> {recommended_offers}\"\n",
    "\n",
    "# Create the UI elements\n",
    "company_label = widgets.HTML(value=\"<h1><b>Company Name</b></h1>\")\n",
    "customer_id_label = widgets.Label(value=\"Customer ID:\")\n",
    "customer_id_text = widgets.Text()\n",
    "recommend_button = widgets.Button(description=\"Recommend Offers\")\n",
    "result_label = widgets.HTML()\n",
    "\n",
    "# Style UI elements\n",
    "company_label.layout.margin = '0 0 20px 0'\n",
    "\n",
    "# Assign callback function to button click event\n",
    "recommend_button.on_click(recommend_button_clicked)\n",
    "\n",
    "# Display the UI elements\n",
    "display(company_label)\n",
    "display(customer_id_label, customer_id_text)\n",
    "display(recommend_button)\n",
    "display(result_label)\n"
   ]
  },
  {
   "cell_type": "code",
   "execution_count": null,
   "id": "851790de",
   "metadata": {},
   "outputs": [],
   "source": []
  },
  {
   "cell_type": "code",
   "execution_count": 30,
   "id": "fb4cb813",
   "metadata": {},
   "outputs": [
    {
     "data": {
      "application/vnd.jupyter.widget-view+json": {
       "model_id": "dc85d5bc0d2e42b688362c6f675e5c8c",
       "version_major": 2,
       "version_minor": 0
      },
      "text/plain": [
       "HTML(value='<h1><b>Company Name</b></h1>', layout=Layout(margin='0 0 20px 0'))"
      ]
     },
     "metadata": {},
     "output_type": "display_data"
    },
    {
     "data": {
      "application/vnd.jupyter.widget-view+json": {
       "model_id": "dd1f0723acb14c6881c046ed55a17932",
       "version_major": 2,
       "version_minor": 0
      },
      "text/plain": [
       "Label(value='<b>Customer ID:</b>', layout=Layout(margin='0 0 10px 0'))"
      ]
     },
     "metadata": {},
     "output_type": "display_data"
    },
    {
     "data": {
      "application/vnd.jupyter.widget-view+json": {
       "model_id": "1dba7075abcf47929679c93497343ea8",
       "version_major": 2,
       "version_minor": 0
      },
      "text/plain": [
       "Text(value='')"
      ]
     },
     "metadata": {},
     "output_type": "display_data"
    },
    {
     "data": {
      "application/vnd.jupyter.widget-view+json": {
       "model_id": "1c4b2ee3f8a74b238930daabc25ed704",
       "version_major": 2,
       "version_minor": 0
      },
      "text/plain": [
       "Button(description='Recommend Offers', style=ButtonStyle())"
      ]
     },
     "metadata": {},
     "output_type": "display_data"
    },
    {
     "data": {
      "application/vnd.jupyter.widget-view+json": {
       "model_id": "3e631dec2f5c4de4abe133ec3aaf48b8",
       "version_major": 2,
       "version_minor": 0
      },
      "text/plain": [
       "Output(layout=Layout(border='1px solid black', padding='10px'))"
      ]
     },
     "metadata": {},
     "output_type": "display_data"
    }
   ],
   "source": [
    "import ipywidgets as widgets\n",
    "from IPython.display import display\n",
    "\n",
    "def recommend_offer_combined(Q_first, Q_second, customer_id, combined_dataset):\n",
    "    # Placeholder function, replace with your implementation\n",
    "    # This function should return the recommended offers\n",
    "    return [(\"Sample Product\", 8.0, 12.0)]\n",
    "\n",
    "def recommend_button_clicked(b):\n",
    "    # Get customer information from the input field\n",
    "    customer_id = int(customer_id_text.value)\n",
    "    \n",
    "    # Call the recommend_offer_combined function\n",
    "    recommended_offers = recommend_offer_combined(None, None, customer_id, None)\n",
    "    \n",
    "    # Display the recommended offers in the output box\n",
    "    result_output.clear_output()\n",
    "    with result_output:\n",
    "        print(\"\\033[1mRecommended Offers:\\033[0m\")\n",
    "        for offer in recommended_offers:\n",
    "            print(f\"Product: \\033[94m{offer[0]}\\033[0m, Interest Rate: \\033[94m{offer[1]}\\033[0m, Tenor: \\033[94m{offer[2]}\\033[0m\")\n",
    "\n",
    "# Create the UI elements\n",
    "company_label = widgets.HTML(value=\"<h1><b>Company Name</b></h1>\")\n",
    "customer_id_label = widgets.Label(value=\"<b>Customer ID:</b>\")\n",
    "customer_id_text = widgets.Text()\n",
    "recommend_button = widgets.Button(description=\"Recommend Offers\")\n",
    "result_output = widgets.Output(layout={'border': '1px solid black', 'padding': '10px'})\n",
    "\n",
    "# Style UI elements\n",
    "company_label.layout.margin = '0 0 20px 0'\n",
    "customer_id_label.layout.margin = '0 0 10px 0'\n",
    "\n",
    "# Assign callback function to button click event\n",
    "recommend_button.on_click(recommend_button_clicked)\n",
    "\n",
    "# Display the UI elements\n",
    "display(company_label)\n",
    "display(customer_id_label, customer_id_text)\n",
    "display(recommend_button)\n",
    "display(result_output)\n"
   ]
  },
  {
   "cell_type": "code",
   "execution_count": null,
   "id": "1d472ff7",
   "metadata": {},
   "outputs": [],
   "source": []
  },
  {
   "cell_type": "code",
   "execution_count": null,
   "id": "62aba88d",
   "metadata": {},
   "outputs": [],
   "source": []
  },
  {
   "cell_type": "code",
   "execution_count": null,
   "id": "834a38c0",
   "metadata": {},
   "outputs": [],
   "source": [
    "import numpy as np\n",
    "import ipywidgets as widgets\n",
    "from IPython.display import display\n",
    "\n",
    "# Define the Q-learning parameters (These are dummy values for demonstration)\n",
    "num_actions = 18\n",
    "num_states = 2\n",
    "num_interest_rate_bins = 3\n",
    "num_tenor_bins = 3\n",
    "epsilon_product = 0.3\n",
    "threshold = 3\n",
    "\n",
    "# Placeholder values for default offer\n",
    "default_product = \"Default Product\"\n",
    "default_interest_rate = 8.0\n",
    "default_tenor = 12.0\n",
    "\n",
    "# Placeholder function for offer recommendation\n",
    "def recommend_offer(Q, customer_id, threshold):\n",
    "    state = 0  # Initial state is \"Accepted\"\n",
    "    offers = []\n",
    "    offered_products = set()\n",
    "    action = None  # Initialize action to None\n",
    "    interest_rate = (np.linspace(6.0, 10.0, num_interest_rate_bins + 1)[0] + np.linspace(6.0, 10.0, num_interest_rate_bins + 1)[-1]) / 2  # Initialize interest_rate to the midpoint of bins\n",
    "    tenor = (np.linspace(6, 12, num_tenor_bins + 1)[0] + np.linspace(6, 12, num_tenor_bins + 1)[-1]) / 2  # Initialize tenor to the midpoint of bins\n",
    "\n",
    "    while len(offers) < 3:\n",
    "        if len(offers) >= threshold:\n",
    "            # After the threshold number of offers, offer the default product\n",
    "            return [(default_product, default_interest_rate, default_tenor)]\n",
    "\n",
    "        if np.random.uniform(0, 1) < epsilon_product or len(offers) == 0:\n",
    "            # Random product selection during exploration or for the first offer\n",
    "            product_name = \"EPP\" if np.random.uniform(0, 1) < 0.5 else \"Quick Cash\"\n",
    "        else:\n",
    "            # Choose the action with the highest Q-value for the current state, excluding offered products\n",
    "            valid_actions = [a for a in range(num_actions) if a not in offered_products]\n",
    "            if len(valid_actions) == 0:\n",
    "                # All products are offered at least once, so choose randomly\n",
    "                action = np.random.randint(num_actions)\n",
    "            else:\n",
    "                action = valid_actions[np.argmax(Q[state, valid_actions])]\n",
    "\n",
    "            product_offset = 0 if action < 9 else 9\n",
    "            interest_rate_bin, tenor_bin = divmod(action - product_offset, num_tenor_bins)\n",
    "            interest_rate = (np.linspace(6.0, 10.0, num_interest_rate_bins + 1)[interest_rate_bin] + np.linspace(6.0, 10.0, num_interest_rate_bins + 1)[interest_rate_bin + 1]) / 2\n",
    "            tenor = (np.linspace(6, 12, num_tenor_bins + 1)[tenor_bin] + np.linspace(6, 12, num_tenor_bins + 1)[tenor_bin + 1]) / 2\n",
    "            product_name = \"EPP\" if product_offset == 0 else \"Quick Cash\"\n",
    "\n",
    "        offers.append((product_name, interest_rate, tenor))\n",
    "        offered_products.add(action)\n",
    "\n",
    "        # Ask the customer for response (\"y\" or \"n\")\n",
    "        response = input(f\"Customer ID {customer_id}: Offer - Product: {product_name}, Interest Rate: {interest_rate}, Tenor: {tenor}. Accept? (y/n): \")\n",
    "\n",
    "        if response.lower() == \"y\":\n",
    "            return offers\n",
    "\n",
    "        state = 0 if response.lower() == \"n\" else 1\n",
    "\n",
    "    return offers\n",
    "\n",
    "# Callback function for the button click event\n",
    "def recommend_button_clicked(b):\n",
    "    # Get customer information from the input field\n",
    "    customer_id = int(customer_id_text.value)\n",
    "    \n",
    "    # Call the recommend_offer function\n",
    "    recommended_offers = recommend_offer(None, customer_id, threshold)\n",
    "    \n",
    "    # Display the recommended offers\n",
    "    if len(recommended_offers) >= threshold:\n",
    "        result_label.value = f\"<b>Recommended Offer:</b> {recommended_offers[0]}\"\n",
    "    else:\n",
    "        result_label.value = f\"<b>Recommended Offers:</b><br>{'<br>'.join(str(offer) for offer in recommended_offers)}\"\n",
    "\n",
    "    # If the threshold is reached, show the default offer\n",
    "    if len(recommended_offers) >= threshold:\n",
    "        display_default_offer(customer_id)\n",
    "\n",
    "# Function to display the default offer\n",
    "def display_default_offer(customer_id):\n",
    "    result_label.value = f\"<b>Customer ID {customer_id}:</b> Default Offer - Product: {default_product}, Interest Rate: {default_interest_rate}, Tenor: {default_tenor}\"\n",
    "\n",
    "# Create the UI elements\n",
    "company_label = widgets.HTML(value=\"<h1><b>Company Name</b></h1>\")\n",
    "customer_id_label = widgets.Label(value=\"Customer ID:\")\n",
    "customer_id_text = widgets.Text()\n",
    "recommend_button = widgets.Button(description=\"Recommend Offers\")\n",
    "result_label = widgets.HTML()\n",
    "\n",
    "# Assign callback function to button click event\n",
    "recommend_button.on_click(recommend_button_clicked)\n",
    "\n",
    "# Display the UI elements\n",
    "display(company_label)\n",
    "display(customer_id_label, customer_id_text)\n",
    "display(recommend_button)\n",
    "display(result_label)\n"
   ]
  },
  {
   "cell_type": "code",
   "execution_count": null,
   "id": "bd5970d6",
   "metadata": {},
   "outputs": [],
   "source": []
  },
  {
   "cell_type": "code",
   "execution_count": null,
   "id": "0e45da6a",
   "metadata": {},
   "outputs": [],
   "source": []
  },
  {
   "cell_type": "code",
   "execution_count": null,
   "id": "348634a8",
   "metadata": {},
   "outputs": [],
   "source": [
    "import numpy as np\n",
    "import ipywidgets as widgets\n",
    "from IPython.display import display, clear_output\n",
    "\n",
    "# Define the Q-learning parameters (These are dummy values for demonstration)\n",
    "num_actions = 18\n",
    "num_states = 2\n",
    "num_interest_rate_bins = 3\n",
    "num_tenor_bins = 3\n",
    "epsilon_product = 0.3\n",
    "threshold = 3\n",
    "\n",
    "# Placeholder values for default offer\n",
    "default_product = \"Default Product\"\n",
    "default_interest_rate = 8.0\n",
    "default_tenor = 12.0\n",
    "\n",
    "# Placeholder function for offer recommendation\n",
    "def recommend_offer(Q, customer_id, threshold):\n",
    "    state = 0  # Initial state is \"Accepted\"\n",
    "    offers = []\n",
    "    offered_products = set()\n",
    "    action = None  # Initialize action to None\n",
    "    interest_rate = (np.linspace(6.0, 10.0, num_interest_rate_bins + 1)[0] + np.linspace(6.0, 10.0, num_interest_rate_bins + 1)[-1]) / 2  # Initialize interest_rate to the midpoint of bins\n",
    "    tenor = (np.linspace(6, 12, num_tenor_bins + 1)[0] + np.linspace(6, 12, num_tenor_bins + 1)[-1]) / 2  # Initialize tenor to the midpoint of bins\n",
    "\n",
    "    while len(offers) < 3:\n",
    "        if len(offers) >= threshold:\n",
    "            # After the threshold number of offers, offer the default product\n",
    "            return [(default_product, default_interest_rate, default_tenor)]\n",
    "\n",
    "        if np.random.uniform(0, 1) < epsilon_product or len(offers) == 0:\n",
    "            # Random product selection during exploration or for the first offer\n",
    "            product_name = \"EPP\" if np.random.uniform(0, 1) < 0.5 else \"Quick Cash\"\n",
    "        else:\n",
    "            # Choose the action with the highest Q-value for the current state, excluding offered products\n",
    "            valid_actions = [a for a in range(num_actions) if a not in offered_products]\n",
    "            if len(valid_actions) == 0:\n",
    "                # All products are offered at least once, so choose randomly\n",
    "                action = np.random.randint(num_actions)\n",
    "            else:\n",
    "                action = valid_actions[np.argmax(Q[state, valid_actions])]\n",
    "\n",
    "            product_offset = 0 if action < 9 else 9\n",
    "            interest_rate_bin, tenor_bin = divmod(action - product_offset, num_tenor_bins)\n",
    "            interest_rate = (np.linspace(6.0, 10.0, num_interest_rate_bins + 1)[interest_rate_bin] + np.linspace(6.0, 10.0, num_interest_rate_bins + 1)[interest_rate_bin + 1]) / 2\n",
    "            tenor = (np.linspace(6, 12, num_tenor_bins + 1)[tenor_bin] + np.linspace(6, 12, num_tenor_bins + 1)[tenor_bin + 1]) / 2\n",
    "            product_name = \"EPP\" if product_offset == 0 else \"Quick Cash\"\n",
    "\n",
    "        offers.append((product_name, interest_rate, tenor))\n",
    "        offered_products.add(action)\n",
    "\n",
    "        # Ask the customer for response (\"y\" or \"n\")\n",
    "        response = input(f\"Customer ID {customer_id}: Offer - Product: {product_name}, Interest Rate: {interest_rate}, Tenor: {tenor}. Accept? (y/n): \")\n",
    "\n",
    "        if response.lower() == \"y\":\n",
    "            return offers\n",
    "\n",
    "        state = 0 if response.lower() == \"n\" else 1\n",
    "\n",
    "    return offers\n",
    "\n",
    "# Callback function for the run button click event\n",
    "def run_button_clicked(b):\n",
    "    # Get customer information from the input field\n",
    "    customer_id = int(customer_id_text.value)\n",
    "    \n",
    "    # Call the recommend_offer function\n",
    "    recommended_offers = recommend_offer(None, customer_id, threshold)\n",
    "    \n",
    "    # Display the recommended offers\n",
    "    if len(recommended_offers) >= threshold:\n",
    "        result_label.value = f\"<b>Recommended Offer:</b> {recommended_offers[0]}\"\n",
    "    else:\n",
    "        result_label.value = f\"<b>Recommended Offers:</b><br>{'<br>'.join(str(offer) for offer in recommended_offers)}\"\n",
    "\n",
    "# Create the UI elements\n",
    "company_label = widgets.HTML(value=\"<h1><b>Company Name</b></h1>\")\n",
    "customer_id_label = widgets.Label(value=\"Customer ID:\")\n",
    "customer_id_text = widgets.Text()\n",
    "run_button = widgets.Button(description=\"Run\")\n",
    "result_label = widgets.HTML()\n",
    "\n",
    "# Assign callback function to run button click event\n",
    "run_button.on_click(run_button_clicked)\n",
    "\n",
    "# Display the UI elements\n",
    "display(company_label)\n",
    "display(customer_id_label, customer_id_text)\n",
    "display(run_button)\n",
    "display(result_label)\n"
   ]
  }
 ],
 "metadata": {
  "kernelspec": {
   "display_name": "Python 3 (ipykernel)",
   "language": "python",
   "name": "python3"
  },
  "language_info": {
   "codemirror_mode": {
    "name": "ipython",
    "version": 3
   },
   "file_extension": ".py",
   "mimetype": "text/x-python",
   "name": "python",
   "nbconvert_exporter": "python",
   "pygments_lexer": "ipython3",
   "version": "3.10.9"
  }
 },
 "nbformat": 4,
 "nbformat_minor": 5
}
