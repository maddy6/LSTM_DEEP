{
 "cells": [
  {
   "cell_type": "code",
   "execution_count": 78,
   "id": "58c419a0",
   "metadata": {},
   "outputs": [],
   "source": [
    "import pandas as pd"
   ]
  },
  {
   "cell_type": "code",
   "execution_count": 5,
   "id": "013505d9",
   "metadata": {},
   "outputs": [
    {
     "data": {
      "text/plain": [
       "array([[0., 0., 0.],\n",
       "       [0., 0., 0.],\n",
       "       [0., 0., 0.]])"
      ]
     },
     "execution_count": 5,
     "metadata": {},
     "output_type": "execute_result"
    }
   ],
   "source": [
    "import numpy as np\n",
    "\n",
    "# Sample dataset of customers and products\n",
    "customer_dataset = [\n",
    "    {\"age\": 25, \"income\": 40000, \"credit_score\": 650},\n",
    "    {\"age\": 35, \"income\": 60000, \"credit_score\": 750},\n",
    "    {\"age\": 40, \"income\": 80000, \"credit_score\": 700},\n",
    "    # Add more customer data here\n",
    "]\n",
    "\n",
    "product_dataset = [\n",
    "    {\"interest_rate\": 0.06, \"loan_amount\": 10000},\n",
    "    {\"interest_rate\": 0.08, \"loan_amount\": 20000},\n",
    "    {\"interest_rate\": 0.1, \"loan_amount\": 30000},\n",
    "    # Add more product data here\n",
    "]\n",
    "\n",
    "# Hyperparameters\n",
    "alpha = 0.1  # Learning rate\n",
    "gamma = 0.9  # Discount factor\n",
    "epsilon = 0.1  # Exploration rate\n",
    "num_episodes = 1000\n",
    "\n",
    "# Initialize Q-table\n",
    "num_customers = len(customer_dataset)\n",
    "num_products = len(product_dataset)\n",
    "Q = np.zeros((num_customers, num_products))\n",
    "\n",
    "Q"
   ]
  },
  {
   "cell_type": "code",
   "execution_count": 33,
   "id": "ece2c432",
   "metadata": {},
   "outputs": [
    {
     "data": {
      "text/plain": [
       "2"
      ]
     },
     "execution_count": 33,
     "metadata": {},
     "output_type": "execute_result"
    }
   ],
   "source": [
    "action = np.random.randint(num_products)\n",
    "action"
   ]
  },
  {
   "cell_type": "code",
   "execution_count": 49,
   "id": "3399e8b2",
   "metadata": {},
   "outputs": [
    {
     "data": {
      "text/plain": [
       "{'interest_rate': 0.1, 'loan_amount': 30000}"
      ]
     },
     "execution_count": 49,
     "metadata": {},
     "output_type": "execute_result"
    }
   ],
   "source": [
    "np.argmax(Q[customer_index, :])\n",
    "\n",
    "product = product_dataset[action]\n",
    "product"
   ]
  },
  {
   "cell_type": "code",
   "execution_count": 50,
   "id": "91d4687d",
   "metadata": {},
   "outputs": [],
   "source": [
    "import random\n",
    "\n",
    "def simulate_product_offering(customer, product):\n",
    "    # Extract customer information\n",
    "    customer_age = customer[\"age\"]\n",
    "    customer_income = customer[\"income\"]\n",
    "    customer_credit_score = customer[\"credit_score\"]\n",
    "\n",
    "    # Extract product information\n",
    "    product_interest_rate = product[\"interest_rate\"]\n",
    "    product_loan_amount = product[\"loan_amount\"]\n",
    "\n",
    "    # Define acceptance criteria based on customer and product data\n",
    "    age_accept_threshold = 30\n",
    "    income_accept_threshold = 50000\n",
    "    credit_score_accept_threshold = 700\n",
    "    interest_rate_accept_range = (0.05, 0.1)\n",
    "    loan_amount_accept_range = (1000, 5000)\n",
    "\n",
    "    # Check if customer meets the acceptance criteria\n",
    "    if (\n",
    "        customer_age > age_accept_threshold\n",
    "        and customer_income > income_accept_threshold\n",
    "        and customer_credit_score > credit_score_accept_threshold\n",
    "        and interest_rate_accept_range[0] <= product_interest_rate <= interest_rate_accept_range[1]\n",
    "        and loan_amount_accept_range[0] <= product_loan_amount <= loan_amount_accept_range[1]\n",
    "    ):\n",
    "        return \"accept\"\n",
    "    else:\n",
    "        return \"decline\"\n"
   ]
  },
  {
   "cell_type": "code",
   "execution_count": 60,
   "id": "31565a57",
   "metadata": {},
   "outputs": [
    {
     "data": {
      "text/plain": [
       "'decline'"
      ]
     },
     "execution_count": 60,
     "metadata": {},
     "output_type": "execute_result"
    }
   ],
   "source": [
    "simulate_product_offering(customer, product)"
   ]
  },
  {
   "cell_type": "code",
   "execution_count": 69,
   "id": "3575b45c",
   "metadata": {},
   "outputs": [
    {
     "name": "stdout",
     "output_type": "stream",
     "text": [
      "Customer response: decline\n"
     ]
    }
   ],
   "source": [
    "import random\n",
    "\n",
    "def simulate_product_offering(customer, product):\n",
    "    # Sample dataset of customer preferences\n",
    "    customer_preferences = {\n",
    "        \"age\": {\"accept_threshold\": 30, \"weight\": 0.5},\n",
    "        \"income\": {\"accept_threshold\": 50000, \"weight\": 0.3},\n",
    "        \"credit_score\": {\"accept_threshold\": 700, \"weight\": 0.2},\n",
    "    }\n",
    "\n",
    "    # Extract customer information\n",
    "    customer_age = customer[\"age\"]\n",
    "    customer_income = customer[\"income\"]\n",
    "    customer_credit_score = customer[\"credit_score\"]\n",
    "\n",
    "    # Extract product information\n",
    "    product_interest_rate = product[\"interest_rate\"]\n",
    "    product_loan_amount = product[\"loan_amount\"]\n",
    "\n",
    "    # Calculate customer preference score\n",
    "    preference_score = (\n",
    "        (customer_age > customer_preferences[\"age\"][\"accept_threshold\"]) * customer_preferences[\"age\"][\"weight\"]\n",
    "        + (customer_income > customer_preferences[\"income\"][\"accept_threshold\"]) * customer_preferences[\"income\"][\"weight\"]\n",
    "        + (customer_credit_score > customer_preferences[\"credit_score\"][\"accept_threshold\"])\n",
    "        * customer_preferences[\"credit_score\"][\"weight\"]\n",
    "    )\n",
    "\n",
    "    # Generate a random acceptance probability based on preference score\n",
    "    acceptance_probability = random.uniform(0, 1)\n",
    "\n",
    "    # Compare the acceptance probability with the preference score\n",
    "    if acceptance_probability <= preference_score:\n",
    "        return \"accept\"\n",
    "    else:\n",
    "        return \"decline\"\n",
    "\n",
    "\n",
    "# Example customer and product data\n",
    "customer = {\"age\": 25, \"income\": 40000, \"credit_score\": 650}\n",
    "product = {\"interest_rate\": 0.07, \"loan_amount\": 15000}\n",
    "\n",
    "# Simulate offering the product to the customer\n",
    "customer_response = simulate_product_offering(customer, product)\n",
    "\n",
    "print(\"Customer response:\", customer_response)\n"
   ]
  },
  {
   "cell_type": "code",
   "execution_count": 75,
   "id": "035c2b85",
   "metadata": {},
   "outputs": [
    {
     "name": "stdout",
     "output_type": "stream",
     "text": [
      "No offer accepted by the customer.\n"
     ]
    }
   ],
   "source": [
    "import random\n",
    "\n",
    "def simulate_product_offering(customer, products):\n",
    "    # Sample dataset of customer preferences\n",
    "    customer_preferences = {\n",
    "        \"age\": {\"accept_threshold\": 30, \"weight\": 0.15},\n",
    "        \"income\": {\"accept_threshold\": 50000, \"weight\": 0.1},\n",
    "        \"credit_score\": {\"accept_threshold\": 700, \"weight\": 0.1},\n",
    "    }\n",
    "\n",
    "    # Extract customer information\n",
    "    customer_age = customer[\"age\"]\n",
    "    customer_income = customer[\"income\"]\n",
    "    customer_credit_score = customer[\"credit_score\"]\n",
    "\n",
    "    # Calculate customer preference score for each product\n",
    "    preference_scores = {}\n",
    "    for product in products:\n",
    "        product_interest_rate = product[\"interest_rate\"]\n",
    "        product_loan_amount = product[\"loan_amount\"]\n",
    "\n",
    "        preference_score = (\n",
    "            (customer_age > customer_preferences[\"age\"][\"accept_threshold\"]) * customer_preferences[\"age\"][\"weight\"]\n",
    "            + (customer_income > customer_preferences[\"income\"][\"accept_threshold\"]) * customer_preferences[\"income\"][\"weight\"]\n",
    "            + (customer_credit_score > customer_preferences[\"credit_score\"][\"accept_threshold\"])\n",
    "            * customer_preferences[\"credit_score\"][\"weight\"]\n",
    "        )\n",
    "\n",
    "        preference_scores[product[\"id\"]] = preference_score\n",
    "\n",
    "    # Sort products based on preference scores in descending order\n",
    "    sorted_products = sorted(products, key=lambda p: preference_scores[p[\"id\"]], reverse=True)\n",
    "\n",
    "    # Find the next offer (product) with the highest preference score\n",
    "    for product in sorted_products:\n",
    "        product_id = product[\"id\"]\n",
    "        product_preference_score = preference_scores[product_id]\n",
    "\n",
    "        # Generate a random acceptance probability based on preference score\n",
    "        acceptance_probability = random.uniform(0, 1)\n",
    "\n",
    "        # Compare the acceptance probability with the preference score\n",
    "        if acceptance_probability <= product_preference_score:\n",
    "            return product_id\n",
    "\n",
    "    # If no offer is accepted, return None\n",
    "    return None\n",
    "\n",
    "\n",
    "# Example customer and product data\n",
    "customer = {\"age\": 25, \"income\": 40000, \"credit_score\": 650}\n",
    "products = [\n",
    "    {\"id\": 1, \"interest_rate\": 0.06, \"loan_amount\": 10000},\n",
    "    {\"id\": 2, \"interest_rate\": 0.08, \"loan_amount\": 20000},\n",
    "    {\"id\": 3, \"interest_rate\": 0.1, \"loan_amount\": 30000},\n",
    "]\n",
    "\n",
    "# Simulate offering the next product to the customer\n",
    "next_offer = simulate_product_offering(customer, products)\n",
    "\n",
    "if next_offer is not None:\n",
    "    print(\"Next offer:\", next_offer)\n",
    "else:\n",
    "    print(\"No offer accepted by the customer.\")\n"
   ]
  },
  {
   "cell_type": "code",
   "execution_count": 76,
   "id": "f48846a3",
   "metadata": {},
   "outputs": [
    {
     "name": "stdout",
     "output_type": "stream",
     "text": [
      "No offer accepted by the customer. Offering default offer: default\n"
     ]
    }
   ],
   "source": [
    "import random\n",
    "\n",
    "def simulate_product_offering(customer, products, default_offer):\n",
    "    # Sample dataset of customer preferences\n",
    "    customer_preferences = {\n",
    "        \"age\": {\"accept_threshold\": 30, \"weight\": 0.15},\n",
    "        \"income\": {\"accept_threshold\": 50000, \"weight\": 0.1},\n",
    "        \"credit_score\": {\"accept_threshold\": 700, \"weight\": 0.1},\n",
    "    }\n",
    "\n",
    "    # Extract customer information\n",
    "    customer_age = customer[\"age\"]\n",
    "    customer_income = customer[\"income\"]\n",
    "    customer_credit_score = customer[\"credit_score\"]\n",
    "\n",
    "    # Calculate customer preference score for each product\n",
    "    preference_scores = {}\n",
    "    for product in products:\n",
    "        product_interest_rate = product[\"interest_rate\"]\n",
    "        product_loan_amount = product[\"loan_amount\"]\n",
    "\n",
    "        preference_score = (\n",
    "            (customer_age > customer_preferences[\"age\"][\"accept_threshold\"]) * customer_preferences[\"age\"][\"weight\"]\n",
    "            + (customer_income > customer_preferences[\"income\"][\"accept_threshold\"]) * customer_preferences[\"income\"][\"weight\"]\n",
    "            + (customer_credit_score > customer_preferences[\"credit_score\"][\"accept_threshold\"])\n",
    "            * customer_preferences[\"credit_score\"][\"weight\"]\n",
    "        )\n",
    "\n",
    "        preference_scores[product[\"id\"]] = preference_score\n",
    "\n",
    "    # Sort products based on preference scores in descending order\n",
    "    sorted_products = sorted(products, key=lambda p: preference_scores[p[\"id\"]], reverse=True)\n",
    "\n",
    "    # Find the next offer (product) with the highest preference score\n",
    "    for product in sorted_products:\n",
    "        product_id = product[\"id\"]\n",
    "        product_preference_score = preference_scores[product_id]\n",
    "\n",
    "        # Generate a random acceptance probability based on preference score\n",
    "        acceptance_probability = random.uniform(0, 1)\n",
    "\n",
    "        # Compare the acceptance probability with the preference score\n",
    "        if acceptance_probability <= product_preference_score:\n",
    "            return product_id\n",
    "\n",
    "    # If no offer is accepted, return the default offer\n",
    "    return default_offer\n",
    "\n",
    "\n",
    "# Example customer and product data\n",
    "customer = {\"age\": 25, \"income\": 40000, \"credit_score\": 650}\n",
    "products = [\n",
    "    {\"id\": 1, \"interest_rate\": 0.06, \"loan_amount\": 10000},\n",
    "    {\"id\": 2, \"interest_rate\": 0.08, \"loan_amount\": 20000},\n",
    "    {\"id\": 3, \"interest_rate\": 0.1, \"loan_amount\": 30000},\n",
    "]\n",
    "default_offer = \"default\"\n",
    "\n",
    "# Simulate offering the next product to the customer\n",
    "next_offer = simulate_product_offering(customer, products, default_offer)\n",
    "\n",
    "if next_offer != default_offer:\n",
    "    print(\"Next offer:\", next_offer)\n",
    "else:\n",
    "    print(\"No offer accepted by the customer. Offering default offer:\", default_offer)\n"
   ]
  },
  {
   "cell_type": "code",
   "execution_count": null,
   "id": "3f117227",
   "metadata": {},
   "outputs": [],
   "source": [
    "\n",
    "# Q-learning algorithm\n",
    "for episode in range(num_episodes):\n",
    "    # Reset the environment for each episode\n",
    "    # (i.e., start with a new customer)\n",
    "    customer_index = np.random.randint(num_customers)\n",
    "    customer = customer_dataset[customer_index]\n",
    "\n",
    "    while True:\n",
    "        # Exploration-exploitation trade-off\n",
    "        if np.random.uniform(0, 1) < epsilon:\n",
    "            # Explore: Select a random action (product)\n",
    "            action = np.random.randint(num_products)\n",
    "        else:\n",
    "            # Exploit: Select the action (product) with the highest Q-value\n",
    "            action = np.argmax(Q[customer_index, :])\n",
    "\n",
    "        # Get the product based on the selected action\n",
    "        product = product_dataset[action]\n",
    "\n",
    "        # Simulate offering the product to the customer\n",
    "        customer_response = simulate_product_offering(customer, product)\n",
    "\n",
    "        # Calculate the reward based on the customer's response\n",
    "        if customer_response == \"accept\":\n",
    "            reward = 1\n",
    "        else:\n",
    "            reward = -1\n",
    "\n",
    "        # Update the Q-value for the selected action\n",
    "        Q[customer_index, action] += alpha * (reward + gamma * np.max(Q[customer_index, :]) - Q[customer_index, action])\n",
    "\n",
    "        # Check if the episode is finished (customer declined the offer)\n",
    "        if customer_response == \"decline\":\n",
    "            break\n"
   ]
  },
  {
   "cell_type": "code",
   "execution_count": null,
   "id": "bbdf8989",
   "metadata": {},
   "outputs": [],
   "source": [
    "# After training, you can use the Q-table to recommend products to customers\n",
    "# For example, for a given customer state, select the product with the highest Q-value\n",
    "customer_state = customer_dataset[0]  # Assuming the first customer in the dataset\n",
    "recommended_product_index = np.argmax(Q[0, :])\n",
    "recommended_product = product_dataset[recommended_product_index]\n",
    "\n",
    "# You can then offer the recommended_product to the customer and repeat the process\n",
    "\n",
    "# Note: You'll need to implement your own simulate_product_offering function\n",
    "# to interact with the customer and get their response. This function should\n",
    "# take the customer and product as inputs and return the customer's response\n",
    "# (\"accept\" or \"decline\") based on your business logic."
   ]
  },
  {
   "cell_type": "code",
   "execution_count": null,
   "id": "aae8915b",
   "metadata": {},
   "outputs": [],
   "source": []
  },
  {
   "cell_type": "code",
   "execution_count": 79,
   "id": "9024c0ff",
   "metadata": {},
   "outputs": [
    {
     "ename": "ModuleNotFoundError",
     "evalue": "No module named 'pyspark'",
     "output_type": "error",
     "traceback": [
      "\u001b[1;31m---------------------------------------------------------------------------\u001b[0m",
      "\u001b[1;31mModuleNotFoundError\u001b[0m                       Traceback (most recent call last)",
      "Cell \u001b[1;32mIn[79], line 1\u001b[0m\n\u001b[1;32m----> 1\u001b[0m \u001b[38;5;28;01mfrom\u001b[39;00m \u001b[38;5;21;01mpyspark\u001b[39;00m\u001b[38;5;21;01m.\u001b[39;00m\u001b[38;5;21;01msql\u001b[39;00m \u001b[38;5;28;01mimport\u001b[39;00m SparkSession\n",
      "\u001b[1;31mModuleNotFoundError\u001b[0m: No module named 'pyspark'"
     ]
    }
   ],
   "source": [
    "from pyspark.sql import SparkSession"
   ]
  },
  {
   "cell_type": "code",
   "execution_count": null,
   "id": "de99f9d0",
   "metadata": {},
   "outputs": [],
   "source": []
  },
  {
   "cell_type": "code",
   "execution_count": null,
   "id": "aa7a9958",
   "metadata": {},
   "outputs": [],
   "source": []
  },
  {
   "cell_type": "code",
   "execution_count": null,
   "id": "a0276229",
   "metadata": {},
   "outputs": [],
   "source": []
  },
  {
   "cell_type": "code",
   "execution_count": null,
   "id": "f64da918",
   "metadata": {},
   "outputs": [],
   "source": []
  }
 ],
 "metadata": {
  "kernelspec": {
   "display_name": "Python 3 (ipykernel)",
   "language": "python",
   "name": "python3"
  },
  "language_info": {
   "codemirror_mode": {
    "name": "ipython",
    "version": 3
   },
   "file_extension": ".py",
   "mimetype": "text/x-python",
   "name": "python",
   "nbconvert_exporter": "python",
   "pygments_lexer": "ipython3",
   "version": "3.10.9"
  }
 },
 "nbformat": 4,
 "nbformat_minor": 5
}
