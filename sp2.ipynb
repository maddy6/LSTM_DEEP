{
 "cells": [
  {
   "cell_type": "code",
   "execution_count": null,
   "id": "d93bdc68",
   "metadata": {},
   "outputs": [],
   "source": []
  },
  {
   "cell_type": "code",
   "execution_count": null,
   "id": "fb0aa7ed",
   "metadata": {},
   "outputs": [],
   "source": [
    "what is radar chart?"
   ]
  },
  {
   "cell_type": "code",
   "execution_count": null,
   "id": "cfa79a96",
   "metadata": {},
   "outputs": [],
   "source": [
    "A radar chart, also known as a spider chart or star plot, is a data visualization technique used to display multivariate data in a two-dimensional plane. It is particularly useful for comparing the performance or characteristics of different variables or entities across multiple categories.\n",
    "\n",
    "In a radar chart, each variable or category is represented by an axis radiating from a common central point. The data values for each category are plotted as points along their respective axes, and a line or polygon is formed by connecting these points. The resulting shape provides a visual representation of the values for each category and allows for easy comparison.\n",
    "\n",
    "The key characteristics of a radar chart are as follows:\n",
    "\n",
    "Axes: Each variable or category is represented by an axis. The number of axes corresponds to the number of variables being compared. These axes are evenly spaced around a central point, creating a radial pattern.\n",
    "\n",
    "Data Points: The data values for each category are plotted as points along their respective axes. The distance from the central point to each data point represents the magnitude or value of the variable for that category.\n",
    "\n",
    "Connecting Lines or Polygon: Lines are drawn to connect the data points for each category, forming a closed polygon shape. This polygon represents the overall pattern or profile of the data across the variables.\n",
    "\n",
    "Radar charts are particularly useful for visualizing and comparing data with multiple variables. They are often used in fields such as sports analytics, market research, and performance evaluation. By displaying data in a radial pattern, radar charts allow for easy identification of patterns, outliers, and similarities/differences between variables or categories."
   ]
  },
  {
   "cell_type": "code",
   "execution_count": null,
   "id": "6c39645a",
   "metadata": {},
   "outputs": [],
   "source": [
    "In this example, we define the categories (variables) and their corresponding values.\n",
    "The angles for each axis are calculated using numpy's linspace function, ensuring equal spacing between the axes.\n",
    "We then create a polar subplot using subplot_kw=dict(polar=True) and\n",
    "plot the data points and connecting lines using fill and plot functions, respectively.\n",
    "The x-axis labels are set to the category names, and the y-axis grid is displayed for reference."
   ]
  },
  {
   "cell_type": "code",
   "execution_count": null,
   "id": "6b6feea5",
   "metadata": {},
   "outputs": [],
   "source": []
  },
  {
   "cell_type": "code",
   "execution_count": null,
   "id": "022418e9",
   "metadata": {},
   "outputs": [],
   "source": [
    "what is scatter matrix plot?"
   ]
  },
  {
   "cell_type": "code",
   "execution_count": null,
   "id": "52dc763a",
   "metadata": {},
   "outputs": [],
   "source": [
    "A scatter matrix plot, also known as a pair plot or scatter plot matrix, is a data visualization technique used to explore the relationships between multiple variables in a dataset. It displays scatter plots of every pair of variables, allowing for a comprehensive view of the data's pairwise relationships.\n",
    "\n",
    "In a scatter matrix plot, each variable is represented by both the x-axis and the y-axis. Each combination of variables is represented by a scatter plot, where each data point represents the values of the two variables being compared. The scatter plots are arranged in a matrix format, with the diagonal representing the distribution of each individual variable.\n",
    "\n",
    "The scatter matrix plot provides several key insights about the relationships between variables:\n",
    "\n",
    "Correlation: The scatter plots show the relationship between two variables, allowing you to assess the strength and direction of their correlation. Positive correlation is indicated by points tending to move upwards, while negative correlation is indicated by points tending to move downwards.\n",
    "Patterns: By examining the scatter plots, you can identify any patterns or trends in the data. These patterns may include clusters, outliers, or nonlinear relationships between variables.\n",
    "Distribution: The diagonal of the scatter matrix plot displays the distribution of each variable individually. This allows for a quick assessment of the data's spread, skewness, and presence of outliers."
   ]
  },
  {
   "cell_type": "code",
   "execution_count": null,
   "id": "52365c77",
   "metadata": {},
   "outputs": [],
   "source": [
    "The scatter matrix plot is a valuable tool for initial exploratory data analysis,\n",
    "as it allows for a quick visual assessment of the relationships and distributions of multiple variables in a dataset.\n",
    "It helps identify potential patterns, trends, and outliers, aiding in the understanding of the data and\n",
    "guiding further analysis."
   ]
  },
  {
   "cell_type": "code",
   "execution_count": null,
   "id": "307aed50",
   "metadata": {},
   "outputs": [],
   "source": []
  },
  {
   "cell_type": "code",
   "execution_count": null,
   "id": "88d406ab",
   "metadata": {},
   "outputs": [],
   "source": []
  },
  {
   "cell_type": "code",
   "execution_count": null,
   "id": "1fcd75df",
   "metadata": {},
   "outputs": [],
   "source": [
    "A polar chart, also known as a polar plot or radar chart, is a graphical representation of data that uses a polar coordinate system. Unlike traditional Cartesian coordinate systems, which use x and y axes, polar charts use a radial axis and an angular axis to plot data points. It is particularly useful for visualizing cyclic or periodic data.\n",
    "\n",
    "In a polar chart, data points are plotted using their radial distance from the center of the chart and their angular position around the circle. Each data point is represented by a marker or a line that connects the points. The angle at which the data point is plotted represents the variable being measured, while the distance from the center represents the magnitude or value of that variable.\n",
    "\n",
    "The key features of a polar chart are as follows:\n",
    "\n",
    "Radial Axis: The radial axis starts from the center of the chart and extends outward. It represents the magnitude or value of the variable being measured. The distance from the center to the data point indicates the value of the variable.\n",
    "\n",
    "Angular Axis: The angular axis represents the angle or category of the variable being measured. It forms a circular shape, with values evenly spaced around the circumference. Each data point is plotted at a specific angle, corresponding to the variable being measured.\n",
    "\n",
    "Multiple Data Series: Polar charts can display multiple data series on the same chart. Each data series is represented by a different line or marker style, allowing for easy comparison between different variables or categories.\n",
    "\n",
    "Polar charts are commonly used to visualize data that has a cyclical or periodic nature, such as time-based data, circular data, or directional data. They are often used in fields such as meteorology, astronomy, engineering, and navigation."
   ]
  },
  {
   "cell_type": "code",
   "execution_count": null,
   "id": "5f648412",
   "metadata": {},
   "outputs": [],
   "source": [
    "import matplotlib.pyplot as plt\n",
    "import numpy as np\n",
    "\n",
    "# Define the categories and their corresponding values\n",
    "categories = ['Category 1', 'Category 2', 'Category 3', 'Category 4']\n",
    "values = [0.8, 0.6, 0.9, 0.7]\n",
    "\n",
    "# Calculate the angles for each category\n",
    "angles = np.linspace(0, 2 * np.pi, len(categories), endpoint=False).tolist()\n",
    "angles += angles[:1]  # Repeat the first angle to close the plot\n",
    "\n",
    "# Create the polar chart\n",
    "fig, ax = plt.subplots(subplot_kw=dict(polar=True))\n",
    "ax.plot(angles, values, marker='o')\n",
    "ax.fill(angles, values, alpha=0.25)\n",
    "\n",
    "# Set the labels and title\n",
    "ax.set_xticks(angles[:-1])\n",
    "ax.set_xticklabels(categories)\n",
    "ax.set_title('Polar Chart')\n",
    "\n",
    "# Display the polar chart\n",
    "plt.show()\n"
   ]
  },
  {
   "cell_type": "code",
   "execution_count": null,
   "id": "4922013f",
   "metadata": {},
   "outputs": [],
   "source": []
  },
  {
   "cell_type": "code",
   "execution_count": null,
   "id": "1767e008",
   "metadata": {},
   "outputs": [],
   "source": [
    "A network graph, also known as a network diagram or graph visualization, is a visual representation of interconnected entities or relationships. It is used to depict complex networks, such as social networks, communication networks, transportation networks, and more. A network graph consists of nodes (vertices) and edges (links) that connect the nodes, illustrating the relationships between them.\n",
    "\n",
    "In a network graph:\n",
    "\n",
    "Nodes (Vertices): Nodes represent the entities or elements in the network. Each node typically represents a distinct entity, such as a person, organization, or concept. Nodes are often depicted as circles, and their size, color, or other visual attributes can convey additional information about the entities they represent.\n",
    "\n",
    "Edges (Links): Edges represent the connections or relationships between nodes. They depict the interactions, dependencies, or associations between the entities in the network. Edges are typically depicted as lines or arrows that connect the nodes. The thickness, color, or other visual attributes of the edges can convey additional information about the relationships.\n",
    "\n",
    "Attributes: Nodes and edges can have attributes associated with them, such as labels, weights, or other metadata. These attributes provide additional information about the entities or relationships being represented in the network graph.\n",
    "\n",
    "Network graphs are powerful tools for analyzing and visualizing complex relationships and patterns in data. They help in identifying clusters or communities, exploring the flow of information or resources, detecting central nodes or influencers, and understanding the overall structure of the network.\n",
    "\n",
    "Here is an example of creating a network graph using Python's networkx library and visualizing it using matplotlib:"
   ]
  },
  {
   "cell_type": "code",
   "execution_count": null,
   "id": "52500eaa",
   "metadata": {},
   "outputs": [],
   "source": []
  },
  {
   "cell_type": "code",
   "execution_count": null,
   "id": "676d09fe",
   "metadata": {},
   "outputs": [],
   "source": [
    "what is .rdd.flapmap ?"
   ]
  },
  {
   "cell_type": "code",
   "execution_count": null,
   "id": "51f1eccb",
   "metadata": {},
   "outputs": [],
   "source": [
    "In PySpark, the .rdd.flatMap() function is a transformation operation applied to a Resilient Distributed Dataset (RDD).\n",
    "It applies a function to each element of the RDD and returns a new RDD by flattening the results.\n",
    "\n",
    "The .flatMap() operation is similar to the .map() operation, but it allows each input element to be mapped to zero or\n",
    "more output elements. It is particularly useful when you need to break down each input element into multiple output\n",
    "elements.\n",
    "\n",
    "The general syntax of the .rdd.flatMap() function is as follows:"
   ]
  },
  {
   "cell_type": "code",
   "execution_count": null,
   "id": "4a6fecda",
   "metadata": {},
   "outputs": [],
   "source": [
    "new_rdd = rdd.flatMap(lambda x: function(x))\n"
   ]
  },
  {
   "cell_type": "code",
   "execution_count": null,
   "id": "8b540a79",
   "metadata": {},
   "outputs": [],
   "source": [
    "where:\n",
    "\n",
    "rdd is the input RDD.\n",
    "lambda x: function(x) is the function to be applied to each element x of the RDD. It can be a lambda function or a named function.\n",
    "new_rdd is the resulting RDD after applying the flatMap operation.\n",
    "The function provided to .flatMap() should return an iterable (e.g., list, tuple, iterator) of elements. These elements will be flattened and combined into a single resulting RDD.\n",
    "\n",
    "Here's an example to illustrate the usage of .rdd.flatMap():"
   ]
  },
  {
   "cell_type": "code",
   "execution_count": null,
   "id": "18908eb0",
   "metadata": {},
   "outputs": [],
   "source": [
    "from pyspark.sql import SparkSession\n",
    "\n",
    "# Create a SparkSession\n",
    "spark = SparkSession.builder.getOrCreate()\n",
    "\n",
    "# Create an RDD\n",
    "data = [\"Hello World\", \"PySpark is great\", \"RDD flatMap example\"]\n",
    "rdd = spark.sparkContext.parallelize(data)\n",
    "\n",
    "# Apply flatMap operation\n",
    "new_rdd = rdd.flatMap(lambda x: x.split())\n",
    "\n",
    "# Print the flattened RDD elements\n",
    "for element in new_rdd.collect():\n",
    "    print(element)\n"
   ]
  },
  {
   "cell_type": "code",
   "execution_count": null,
   "id": "742f3cb1",
   "metadata": {},
   "outputs": [],
   "source": [
    "In this example, we have an RDD rdd with three string elements. We apply .flatMap() with a lambda function lambda x: x.split() to split each string element into multiple words. The resulting RDD new_rdd will contain the flattened list of words.\n",
    "\n",
    "The output of the above code will be:"
   ]
  },
  {
   "cell_type": "code",
   "execution_count": null,
   "id": "e8a9a364",
   "metadata": {},
   "outputs": [],
   "source": [
    "Hello\n",
    "World\n",
    "PySpark\n",
    "is\n",
    "great\n",
    "RDD\n",
    "flatMap\n",
    "example\n"
   ]
  },
  {
   "cell_type": "code",
   "execution_count": null,
   "id": "62618b99",
   "metadata": {},
   "outputs": [],
   "source": [
    "Notice that the original string elements are split into individual words and flattened into a single RDD.\n",
    "\n",
    "By using .rdd.flatMap(), you can transform an RDD by applying a function that returns multiple elements for each input element, allowing you to perform more complex operations and transformations on your data."
   ]
  }
 ],
 "metadata": {
  "kernelspec": {
   "display_name": "Python 3 (ipykernel)",
   "language": "python",
   "name": "python3"
  },
  "language_info": {
   "codemirror_mode": {
    "name": "ipython",
    "version": 3
   },
   "file_extension": ".py",
   "mimetype": "text/x-python",
   "name": "python",
   "nbconvert_exporter": "python",
   "pygments_lexer": "ipython3",
   "version": "3.10.9"
  }
 },
 "nbformat": 4,
 "nbformat_minor": 5
}
