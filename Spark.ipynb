{
 "cells": [
  {
   "cell_type": "code",
   "execution_count": null,
   "id": "825605d9",
   "metadata": {},
   "outputs": [],
   "source": [
    "# Sample dataset\n",
    "data = [\n",
    "    (1, \"Product A\", \"Category 1\", 100, 50),\n",
    "    (2, \"Product B\", \"Category 1\", 200, 80),\n",
    "    (3, \"Product C\", \"Category 2\", 150, 60),\n",
    "    (4, \"Product D\", \"Category 2\", 300, 90),\n",
    "    (5, \"Product E\", \"Category 3\", 250, 70)\n",
    "]\n",
    "\n",
    "# Creating a PySpark DataFrame\n",
    "df = spark.createDataFrame(data, [\"ID\", \"Product\", \"Category\", \"Price\", \"Quantity\"])\n",
    "df.show()\n"
   ]
  },
  {
   "cell_type": "code",
   "execution_count": null,
   "id": "90866909",
   "metadata": {},
   "outputs": [],
   "source": [
    "Bar Chart:"
   ]
  },
  {
   "cell_type": "code",
   "execution_count": null,
   "id": "7a167051",
   "metadata": {},
   "outputs": [],
   "source": [
    "import matplotlib.pyplot as plt\n",
    "\n",
    "# Calculating the total sales for each product\n",
    "sales_by_product = df.groupBy(\"Product\").sum(\"Price\").toPandas()\n",
    "\n",
    "# Plotting a bar chart of total sales by product\n",
    "plt.bar(sales_by_product[\"Product\"], sales_by_product[\"sum(Price)\"])\n",
    "plt.xlabel(\"Product\")\n",
    "plt.ylabel(\"Total Sales\")\n",
    "plt.title(\"Bar Chart: Total Sales by Product\")\n",
    "plt.xticks(rotation=45)\n",
    "plt.show()\n"
   ]
  },
  {
   "cell_type": "code",
   "execution_count": null,
   "id": "5fb79d5b",
   "metadata": {},
   "outputs": [],
   "source": [
    "Pie Chart:"
   ]
  },
  {
   "cell_type": "code",
   "execution_count": null,
   "id": "4d8e8f47",
   "metadata": {},
   "outputs": [],
   "source": [
    "import matplotlib.pyplot as plt\n",
    "\n",
    "# Calculating the total sales for each category\n",
    "sales_by_category = df.groupBy(\"Category\").sum(\"Price\").toPandas()\n",
    "\n",
    "# Plotting a pie chart of total sales by category\n",
    "plt.pie(sales_by_category[\"sum(Price)\"], labels=sales_by_category[\"Category\"], autopct='%1.1f%%')\n",
    "plt.title(\"Pie Chart: Total Sales by Category\")\n",
    "plt.show()\n"
   ]
  },
  {
   "cell_type": "code",
   "execution_count": null,
   "id": "20574eb9",
   "metadata": {},
   "outputs": [],
   "source": [
    "Box Plot:"
   ]
  },
  {
   "cell_type": "code",
   "execution_count": null,
   "id": "a02f1690",
   "metadata": {},
   "outputs": [],
   "source": [
    "import seaborn as sns\n",
    "\n",
    "# Creating a box plot of price by category\n",
    "sns.boxplot(data=df.toPandas(), x=\"Category\", y=\"Price\")\n",
    "plt.xlabel(\"Category\")\n",
    "plt.ylabel(\"Price\")\n",
    "plt.title(\"Box Plot: Price by Category\")\n",
    "plt.show()\n"
   ]
  },
  {
   "cell_type": "code",
   "execution_count": null,
   "id": "aa5e967f",
   "metadata": {},
   "outputs": [],
   "source": [
    "Scatter Plot:"
   ]
  },
  {
   "cell_type": "code",
   "execution_count": null,
   "id": "e5084e8b",
   "metadata": {},
   "outputs": [],
   "source": [
    "import matplotlib.pyplot as plt\n",
    "\n",
    "# Plotting a scatter plot of price versus quantity\n",
    "price_values = df.select(\"Price\").rdd.flatMap(lambda x: x).collect()\n",
    "quantity_values = df.select(\"Quantity\").rdd.flatMap(lambda x: x).collect()\n",
    "\n",
    "plt.scatter(price_values, quantity_values)\n",
    "plt.xlabel(\"Price\")\n",
    "plt.ylabel(\"Quantity\")\n",
    "plt.title(\"Scatter Plot: Price vs Quantity\")\n",
    "plt.show()\n"
   ]
  },
  {
   "cell_type": "code",
   "execution_count": null,
   "id": "28fff975",
   "metadata": {},
   "outputs": [],
   "source": [
    "Line Plot:"
   ]
  },
  {
   "cell_type": "code",
   "execution_count": null,
   "id": "4da119fd",
   "metadata": {},
   "outputs": [],
   "source": [
    "import matplotlib.pyplot as plt\n",
    "\n",
    "# Sorting the DataFrame by ID\n",
    "sorted_df = df.sort(\"ID\")\n",
    "\n",
    "# Line plot of total sales by ID\n",
    "id_values = sorted_df.select(\"ID\").rdd.flatMap(lambda x: x).collect()\n",
    "sales_values = sorted_df.select(\"Price\").rdd.flatMap(lambda x: x).collect()\n",
    "\n",
    "plt.plot(id_values, sales_values)\n",
    "plt.xlabel(\"ID\")\n",
    "plt.ylabel(\"Total Sales\")\n",
    "plt.title(\"Line Plot: Total Sales by ID\")\n",
    "plt.show()\n"
   ]
  },
  {
   "cell_type": "code",
   "execution_count": null,
   "id": "eff777dc",
   "metadata": {},
   "outputs": [],
   "source": []
  },
  {
   "cell_type": "code",
   "execution_count": null,
   "id": "83da3b1a",
   "metadata": {},
   "outputs": [],
   "source": []
  },
  {
   "cell_type": "code",
   "execution_count": null,
   "id": "7ff52583",
   "metadata": {},
   "outputs": [],
   "source": [
    "# Area chart\n",
    "\n",
    "import matplotlib.pyplot as plt\n",
    "\n",
    "# Calculating the total sales for each product\n",
    "sales_by_product = df.groupBy(\"Product\").sum(\"Price\").toPandas()\n",
    "\n",
    "# Plotting an area chart of total sales by product\n",
    "plt.stackplot(sales_by_product[\"Product\"], sales_by_product[\"sum(Price)\"], labels=sales_by_product[\"Product\"])\n",
    "plt.xlabel(\"Product\")\n",
    "plt.ylabel(\"Total Sales\")\n",
    "plt.title(\"Area Chart: Total Sales by Product\")\n",
    "plt.legend(loc=\"upper left\")\n",
    "plt.xticks(rotation=45)\n",
    "plt.show()\n"
   ]
  },
  {
   "cell_type": "code",
   "execution_count": null,
   "id": "f3caf4aa",
   "metadata": {},
   "outputs": [],
   "source": [
    "Histogram:"
   ]
  },
  {
   "cell_type": "code",
   "execution_count": null,
   "id": "89d51b38",
   "metadata": {},
   "outputs": [],
   "source": [
    "import matplotlib.pyplot as plt\n",
    "\n",
    "# Plotting a histogram of prices\n",
    "price_values = df.select(\"Price\").rdd.flatMap(lambda x: x).collect()\n",
    "\n",
    "plt.hist(price_values, bins=10)\n",
    "plt.xlabel(\"Price\")\n",
    "plt.ylabel(\"Frequency\")\n",
    "plt.title(\"Histogram: Price Distribution\")\n",
    "plt.show()\n"
   ]
  },
  {
   "cell_type": "code",
   "execution_count": null,
   "id": "1dd3b9cd",
   "metadata": {},
   "outputs": [],
   "source": [
    "Heatmap"
   ]
  },
  {
   "cell_type": "code",
   "execution_count": null,
   "id": "5ef43ded",
   "metadata": {},
   "outputs": [],
   "source": [
    "import seaborn as sns\n",
    "\n",
    "# Calculating the correlation matrix\n",
    "correlation_matrix = df.select(df.columns).toPandas().corr()\n",
    "\n",
    "# Plotting a heatmap of the correlation matrix\n",
    "sns.heatmap(correlation_matrix, annot=True, cmap=\"coolwarm\")\n",
    "plt.title(\"Heatmap: Correlation Matrix\")\n",
    "plt.show()\n"
   ]
  },
  {
   "cell_type": "code",
   "execution_count": null,
   "id": "dc5b29b4",
   "metadata": {},
   "outputs": [],
   "source": []
  },
  {
   "cell_type": "code",
   "execution_count": null,
   "id": "68747a60",
   "metadata": {},
   "outputs": [],
   "source": [
    "Violin Plot:"
   ]
  },
  {
   "cell_type": "code",
   "execution_count": null,
   "id": "4f1696ce",
   "metadata": {},
   "outputs": [],
   "source": [
    "import seaborn as sns\n",
    "\n",
    "# Creating a violin plot of price by category\n",
    "sns.violinplot(data=df.toPandas(), x=\"Category\", y=\"Price\")\n",
    "plt.xlabel(\"Category\")\n",
    "plt.ylabel(\"Price\")\n",
    "plt.title(\"Violin Plot: Price by Category\")\n",
    "plt.show()\n"
   ]
  },
  {
   "cell_type": "code",
   "execution_count": null,
   "id": "642d65df",
   "metadata": {},
   "outputs": [],
   "source": [
    "Radar Chart"
   ]
  },
  {
   "cell_type": "code",
   "execution_count": null,
   "id": "ed26ccff",
   "metadata": {},
   "outputs": [],
   "source": [
    "import matplotlib.pyplot as plt\n",
    "import numpy as np\n",
    "\n",
    "# Aggregating the average price and quantity by category\n",
    "avg_price_quantity = df.groupBy(\"Category\").avg(\"Price\", \"Quantity\").toPandas()\n",
    "\n",
    "# Creating data for the radar chart\n",
    "categories = avg_price_quantity[\"Category\"]\n",
    "price_values = avg_price_quantity[\"avg(Price)\"]\n",
    "quantity_values = avg_price_quantity[\"avg(Quantity)\"]\n",
    "\n",
    "# Plotting a radar chart of average price and quantity by category\n",
    "fig, ax = plt.subplots(figsize=(6, 6), subplot_kw=dict(polar=True))\n",
    "angles = np.linspace(0, 2 * np.pi, len(categories), endpoint=False).tolist()\n",
    "angles += angles[:1]\n",
    "ax.plot(angles, price_values.tolist() + price_values.tolist()[:1], label=\"Average Price\")\n",
    "ax.plot(angles, quantity_values.tolist() + quantity_values.tolist()[:1], label=\"Average Quantity\")\n",
    "ax.fill(angles, price_values.tolist() + price_values.tolist()[:1], alpha=0.25)\n",
    "ax.fill(angles, quantity_values.tolist() + quantity_values.tolist()[:1], alpha=0.25)\n",
    "ax.set_xticks(angles[:-1])\n",
    "ax.set_xticklabels(categories)\n",
    "plt.title(\"Radar Chart: Average Price and Quantity by Category\")\n",
    "plt.legend(loc=\"upper right\")\n",
    "plt.show()\n"
   ]
  },
  {
   "cell_type": "code",
   "execution_count": null,
   "id": "21e4bcd6",
   "metadata": {},
   "outputs": [],
   "source": []
  },
  {
   "cell_type": "code",
   "execution_count": null,
   "id": "2906ace8",
   "metadata": {},
   "outputs": [],
   "source": [
    "Stacked Bar Chart:"
   ]
  },
  {
   "cell_type": "code",
   "execution_count": null,
   "id": "c74975d6",
   "metadata": {},
   "outputs": [],
   "source": [
    "import matplotlib.pyplot as plt\n",
    "\n",
    "# Calculating the total sales for each category and product\n",
    "sales_by_category_product = df.groupBy(\"Category\", \"Product\").sum(\"Price\").toPandas()\n",
    "\n",
    "# Pivot the data for stacked bar chart\n",
    "pivot_df = sales_by_category_product.pivot(index=\"Category\", columns=\"Product\", values=\"sum(Price)\")\n",
    "\n",
    "# Plotting a stacked bar chart\n",
    "pivot_df.plot(kind=\"bar\", stacked=True)\n",
    "plt.xlabel(\"Category\")\n",
    "plt.ylabel(\"Total Sales\")\n",
    "plt.title(\"Stacked Bar Chart: Total Sales by Category and Product\")\n",
    "plt.xticks(rotation=45)\n",
    "plt.show()\n"
   ]
  },
  {
   "cell_type": "code",
   "execution_count": null,
   "id": "77177da3",
   "metadata": {},
   "outputs": [],
   "source": [
    "Scatter Matrix Plot:"
   ]
  },
  {
   "cell_type": "code",
   "execution_count": null,
   "id": "02d00e20",
   "metadata": {},
   "outputs": [],
   "source": [
    "import pandas as pd\n",
    "import seaborn as sns\n",
    "\n",
    "# Converting the PySpark DataFrame to Pandas DataFrame\n",
    "pandas_df = df.select(\"Price\", \"Quantity\").toPandas()\n",
    "\n",
    "# Plotting a scatter matrix plot\n",
    "sns.pairplot(pandas_df)\n",
    "plt.title(\"Scatter Matrix Plot: Price and Quantity\")\n",
    "plt.show()\n"
   ]
  },
  {
   "cell_type": "code",
   "execution_count": null,
   "id": "9ad24992",
   "metadata": {},
   "outputs": [],
   "source": [
    "Word Cloud:"
   ]
  },
  {
   "cell_type": "code",
   "execution_count": null,
   "id": "3d92b3e2",
   "metadata": {},
   "outputs": [],
   "source": [
    "from wordcloud import WordCloud\n",
    "import matplotlib.pyplot as plt\n",
    "\n",
    "# Concatenating all product names\n",
    "all_products = \" \".join(df.select(\"Product\").rdd.flatMap(lambda x: x).collect())\n",
    "\n",
    "# Generating a word cloud\n",
    "wordcloud = WordCloud(width=800, height=400, background_color=\"white\").generate(all_products)\n",
    "\n",
    "# Displaying the word cloud\n",
    "plt.figure(figsize=(10, 5))\n",
    "plt.imshow(wordcloud, interpolation=\"bilinear\")\n",
    "plt.axis(\"off\")\n",
    "plt.title(\"Word Cloud: Product Names\")\n",
    "plt.show()\n"
   ]
  },
  {
   "cell_type": "code",
   "execution_count": null,
   "id": "905d9fcb",
   "metadata": {},
   "outputs": [],
   "source": [
    "Treemap:"
   ]
  },
  {
   "cell_type": "code",
   "execution_count": null,
   "id": "9a7609c3",
   "metadata": {},
   "outputs": [],
   "source": [
    "import squarify\n",
    "import matplotlib.pyplot as plt\n",
    "\n",
    "# Calculating the total sales for each product\n",
    "sales_by_product = df.groupBy(\"Product\").sum(\"Price\").toPandas()\n",
    "\n",
    "# Sorting the data by total sales\n",
    "sales_by_product.sort_values(\"sum(Price)\", ascending=False, inplace=True)\n",
    "\n",
    "# Creating a treemap\n",
    "squarify.plot(sizes=sales_by_product[\"sum(Price)\"], label=sales_by_product[\"Product\"], alpha=0.8)\n",
    "plt.axis(\"off\")\n",
    "plt.title(\"Treemap: Total Sales by Product\")\n",
    "plt.show()\n"
   ]
  },
  {
   "cell_type": "code",
   "execution_count": null,
   "id": "d257fa8a",
   "metadata": {},
   "outputs": [],
   "source": []
  },
  {
   "cell_type": "code",
   "execution_count": null,
   "id": "f3472c2e",
   "metadata": {},
   "outputs": [],
   "source": [
    "3D Scatter Plot:"
   ]
  },
  {
   "cell_type": "code",
   "execution_count": null,
   "id": "1c3ab74e",
   "metadata": {},
   "outputs": [],
   "source": [
    "import matplotlib.pyplot as plt\n",
    "from mpl_toolkits.mplot3d import Axes3D\n",
    "\n",
    "# Extracting the X, Y, and Z coordinates\n",
    "x_values = df.select(\"ID\").rdd.flatMap(lambda x: x).collect()\n",
    "y_values = df.select(\"Price\").rdd.flatMap(lambda x: x).collect()\n",
    "z_values = df.select(\"Quantity\").rdd.flatMap(lambda x: x).collect()\n",
    "\n",
    "# Creating a 3D scatter plot\n",
    "fig = plt.figure()\n",
    "ax = fig.add_subplot(111, projection='3d')\n",
    "ax.scatter(x_values, y_values, z_values)\n",
    "ax.set_xlabel(\"ID\")\n",
    "ax.set_ylabel(\"Price\")\n",
    "ax.set_zlabel(\"Quantity\")\n",
    "ax.set_title(\"3D Scatter Plot: Price vs Quantity vs ID\")\n",
    "plt.show()\n"
   ]
  },
  {
   "cell_type": "code",
   "execution_count": null,
   "id": "f092e401",
   "metadata": {},
   "outputs": [],
   "source": [
    "Parallel Coordinates Plot:"
   ]
  },
  {
   "cell_type": "code",
   "execution_count": null,
   "id": "3a581012",
   "metadata": {},
   "outputs": [],
   "source": [
    "import pandas as pd\n",
    "from pandas.plotting import parallel_coordinates\n",
    "\n",
    "# Converting the PySpark DataFrame to Pandas DataFrame\n",
    "pandas_df = df.select(\"Product\", \"Price\", \"Quantity\").toPandas()\n",
    "\n",
    "# Plotting a parallel coordinates plot\n",
    "plt.figure(figsize=(8, 5))\n",
    "parallel_coordinates(pandas_df, \"Product\", colormap=plt.get_cmap(\"Set1\"))\n",
    "plt.xlabel(\"Features\")\n",
    "plt.ylabel(\"Values\")\n",
    "plt.title(\"Parallel Coordinates Plot: Product, Price, Quantity\")\n",
    "plt.xticks(rotation=45)\n",
    "plt.legend(loc=\"upper right\")\n",
    "plt.show()\n"
   ]
  },
  {
   "cell_type": "code",
   "execution_count": null,
   "id": "144a752f",
   "metadata": {},
   "outputs": [],
   "source": []
  },
  {
   "cell_type": "code",
   "execution_count": null,
   "id": "3032076c",
   "metadata": {},
   "outputs": [],
   "source": [
    "Bubble Chart:"
   ]
  },
  {
   "cell_type": "code",
   "execution_count": null,
   "id": "955c9414",
   "metadata": {},
   "outputs": [],
   "source": [
    "import matplotlib.pyplot as plt\n",
    "\n",
    "# Extracting the X, Y, and size values\n",
    "x_values = df.select(\"ID\").rdd.flatMap(lambda x: x).collect()\n",
    "y_values = df.select(\"Price\").rdd.flatMap(lambda x: x).collect()\n",
    "size_values = df.select(\"Quantity\").rdd.flatMap(lambda x: x).collect()\n",
    "\n",
    "# Plotting a bubble chart\n",
    "plt.scatter(x_values, y_values, s=size_values, alpha=0.5)\n",
    "plt.xlabel(\"ID\")\n",
    "plt.ylabel(\"Price\")\n",
    "plt.title(\"Bubble Chart: Price vs ID with Quantity as Size\")\n",
    "plt.show()\n"
   ]
  },
  {
   "cell_type": "code",
   "execution_count": null,
   "id": "73f8e356",
   "metadata": {},
   "outputs": [],
   "source": [
    "Polar Chart:"
   ]
  },
  {
   "cell_type": "code",
   "execution_count": null,
   "id": "14f4bd9c",
   "metadata": {},
   "outputs": [],
   "source": [
    "import matplotlib.pyplot as plt\n",
    "import numpy as np\n",
    "\n",
    "# Aggregating the total sales by category\n",
    "sales_by_category = df.groupBy(\"Category\").sum(\"Price\").toPandas()\n",
    "\n",
    "# Creating data for the polar chart\n",
    "categories = sales_by_category[\"Category\"]\n",
    "sales_values = sales_by_category[\"sum(Price)\"]\n",
    "\n",
    "# Plotting a polar chart\n",
    "angles = np.linspace(0, 2 * np.pi, len(categories), endpoint=False).tolist()\n",
    "sales_values += sales_values[:1]\n",
    "angles += angles[:1]\n",
    "plt.polar(angles, sales_values)\n",
    "plt.xticks(angles[:-1], categories)\n",
    "plt.title(\"Polar Chart: Total Sales by Category\")\n",
    "plt.show()\n"
   ]
  },
  {
   "cell_type": "code",
   "execution_count": null,
   "id": "62a42164",
   "metadata": {},
   "outputs": [],
   "source": [
    "Donut Chart:"
   ]
  },
  {
   "cell_type": "code",
   "execution_count": null,
   "id": "dd4faef0",
   "metadata": {},
   "outputs": [],
   "source": [
    "import matplotlib.pyplot as plt\n",
    "\n",
    "# Calculating the total sales for each category\n",
    "sales_by_category = df.groupBy(\"Category\").sum(\"Price\").toPandas()\n",
    "\n",
    "# Plotting a donut chart of total sales by category\n",
    "plt.pie(sales_by_category[\"sum(Price)\"], labels=sales_by_category[\"Category\"], autopct='%1.1f%%', wedgeprops=dict(width=0.4))\n",
    "plt.title(\"Donut Chart: Total Sales by Category\")\n",
    "plt.show()\n"
   ]
  },
  {
   "cell_type": "code",
   "execution_count": null,
   "id": "54ac7001",
   "metadata": {},
   "outputs": [],
   "source": [
    "Streamgraph:"
   ]
  },
  {
   "cell_type": "code",
   "execution_count": null,
   "id": "d5e30f68",
   "metadata": {},
   "outputs": [],
   "source": [
    "import pandas as pd\n",
    "import matplotlib.pyplot as plt\n",
    "\n",
    "# Converting the PySpark DataFrame to Pandas DataFrame\n",
    "pandas_df = df.groupBy(\"Category\").sum(\"Price\").toPandas()\n",
    "\n",
    "# Sorting the data by category\n",
    "pandas_df.sort_values(\"Category\", inplace=True)\n",
    "\n",
    "# Creating a streamgraph\n",
    "plt.stackplot(pandas_df[\"Category\"], pandas_df.drop(\"Category\", axis=1).T, labels=pandas_df.drop(\"Category\", axis=1).columns)\n",
    "plt.xlabel(\"Category\")\n",
    "plt.ylabel(\"Total Sales\")\n",
    "plt.title(\"Streamgraph: Total Sales by Category\")\n",
    "plt.legend(loc=\"upper left\")\n",
    "plt.xticks(rotation=45)\n",
    "plt.show()\n"
   ]
  },
  {
   "cell_type": "code",
   "execution_count": null,
   "id": "4b6e1334",
   "metadata": {},
   "outputs": [],
   "source": []
  },
  {
   "cell_type": "code",
   "execution_count": null,
   "id": "afdc97b4",
   "metadata": {},
   "outputs": [],
   "source": [
    "visually interactive Charts"
   ]
  },
  {
   "cell_type": "code",
   "execution_count": null,
   "id": "0db7b7de",
   "metadata": {},
   "outputs": [],
   "source": [
    "Interactive Line Chart:"
   ]
  },
  {
   "cell_type": "code",
   "execution_count": null,
   "id": "e364e4a0",
   "metadata": {},
   "outputs": [],
   "source": [
    "import plotly.express as px\n",
    "\n",
    "# Converting the PySpark DataFrame to Pandas DataFrame\n",
    "pandas_df = df.select(\"ID\", \"Price\").toPandas()\n",
    "\n",
    "# Creating an interactive line chart\n",
    "fig = px.line(pandas_df, x=\"ID\", y=\"Price\", title=\"Interactive Line Chart: Price by ID\")\n",
    "fig.show()\n"
   ]
  },
  {
   "cell_type": "code",
   "execution_count": null,
   "id": "10c29e20",
   "metadata": {},
   "outputs": [],
   "source": [
    "Interactive Scatter Plot with Tooltips:"
   ]
  },
  {
   "cell_type": "code",
   "execution_count": null,
   "id": "d490d8d1",
   "metadata": {},
   "outputs": [],
   "source": [
    "import plotly.express as px\n",
    "\n",
    "# Converting the PySpark DataFrame to Pandas DataFrame\n",
    "pandas_df = df.toPandas()\n",
    "\n",
    "# Creating an interactive scatter plot with tooltips\n",
    "fig = px.scatter(pandas_df, x=\"Price\", y=\"Quantity\", hover_data=[\"Product\"], title=\"Interactive Scatter Plot with Tooltips\")\n",
    "fig.show()\n"
   ]
  },
  {
   "cell_type": "code",
   "execution_count": null,
   "id": "2bb380ab",
   "metadata": {},
   "outputs": [],
   "source": []
  },
  {
   "cell_type": "code",
   "execution_count": null,
   "id": "1506d71c",
   "metadata": {},
   "outputs": [],
   "source": [
    "Interactive Bar Chart with Dropdown:"
   ]
  },
  {
   "cell_type": "code",
   "execution_count": null,
   "id": "89283945",
   "metadata": {},
   "outputs": [],
   "source": [
    "import plotly.express as px\n",
    "\n",
    "# Converting the PySpark DataFrame to Pandas DataFrame\n",
    "pandas_df = df.toPandas()\n",
    "\n",
    "# Creating an interactive bar chart with dropdown\n",
    "fig = px.bar(pandas_df, x=\"Product\", y=\"Price\", color=\"Category\", title=\"Interactive Bar Chart with Dropdown\")\n",
    "fig.update_layout(xaxis={'categoryorder':'total descending'})\n",
    "fig.show()\n"
   ]
  },
  {
   "cell_type": "code",
   "execution_count": null,
   "id": "d5d07adb",
   "metadata": {},
   "outputs": [],
   "source": [
    "Interactive Sunburst Chart:"
   ]
  },
  {
   "cell_type": "code",
   "execution_count": null,
   "id": "782549f6",
   "metadata": {},
   "outputs": [],
   "source": [
    "import plotly.express as px\n",
    "\n",
    "# Converting the PySpark DataFrame to Pandas DataFrame\n",
    "pandas_df = df.toPandas()\n",
    "\n",
    "# Creating an interactive sunburst chart\n",
    "fig = px.sunburst(pandas_df, path=[\"Category\", \"Product\"], values=\"Price\", title=\"Interactive Sunburst Chart: Price by Category and Product\")\n",
    "fig.show()\n"
   ]
  },
  {
   "cell_type": "code",
   "execution_count": null,
   "id": "fbfb7f86",
   "metadata": {},
   "outputs": [],
   "source": [
    "Interactive Heatmap with Slider:"
   ]
  },
  {
   "cell_type": "code",
   "execution_count": null,
   "id": "5bbd2cdf",
   "metadata": {},
   "outputs": [],
   "source": [
    "import plotly.express as px\n",
    "\n",
    "# Converting the PySpark DataFrame to Pandas DataFrame\n",
    "pandas_df = df.toPandas()\n",
    "\n",
    "# Creating an interactive heatmap with slider\n",
    "fig = px.imshow(pandas_df.pivot(index=\"Category\", columns=\"Product\", values=\"Price\"), x=pandas_df[\"Product\"], y=pandas_df[\"Category\"], title=\"Interactive Heatmap with Slider: Price by Category and Product\")\n",
    "fig.update_layout(xaxis={'categoryorder':'total descending'}, yaxis={'categoryorder':'total ascending'})\n",
    "fig.update_xaxes(side=\"top\")\n",
    "fig.update_traces(colorbar=dict(len=0.4, y=0.8))\n",
    "fig.show()\n"
   ]
  },
  {
   "cell_type": "code",
   "execution_count": null,
   "id": "e9026b05",
   "metadata": {},
   "outputs": [],
   "source": [
    "Interactive Pie Chart:"
   ]
  },
  {
   "cell_type": "code",
   "execution_count": null,
   "id": "f57a2789",
   "metadata": {},
   "outputs": [],
   "source": [
    "import plotly.express as px\n",
    "\n",
    "# Converting the PySpark DataFrame to Pandas DataFrame\n",
    "pandas_df = df.toPandas()\n",
    "\n",
    "# Creating an interactive pie chart\n",
    "fig = px.pie(pandas_df, names=\"Category\", title=\"Interactive Pie Chart: Distribution by Category\")\n",
    "fig.show()\n"
   ]
  },
  {
   "cell_type": "code",
   "execution_count": null,
   "id": "9a5af5de",
   "metadata": {},
   "outputs": [],
   "source": [
    "Choropleth Map:"
   ]
  },
  {
   "cell_type": "code",
   "execution_count": null,
   "id": "95e9e678",
   "metadata": {},
   "outputs": [],
   "source": [
    "import plotly.express as px\n",
    "\n",
    "# Converting the PySpark DataFrame to Pandas DataFrame\n",
    "pandas_df = df.toPandas()\n",
    "\n",
    "# Creating a choropleth map\n",
    "fig = px.choropleth(pandas_df, locations=\"Country\", color=\"Price\", title=\"Choropleth Map: Price by Country\")\n",
    "fig.show()\n"
   ]
  },
  {
   "cell_type": "code",
   "execution_count": null,
   "id": "d2a4fb6c",
   "metadata": {},
   "outputs": [],
   "source": [
    "Box Plot:"
   ]
  },
  {
   "cell_type": "code",
   "execution_count": null,
   "id": "7c9ae6f4",
   "metadata": {},
   "outputs": [],
   "source": [
    "import plotly.express as px\n",
    "\n",
    "# Converting the PySpark DataFrame to Pandas DataFrame\n",
    "pandas_df = df.toPandas()\n",
    "\n",
    "# Creating a box plot\n",
    "fig = px.box(pandas_df, x=\"Category\", y=\"Price\", title=\"Box Plot: Price Distribution by Category\")\n",
    "fig.show()\n"
   ]
  },
  {
   "cell_type": "code",
   "execution_count": null,
   "id": "8ba1b2ae",
   "metadata": {},
   "outputs": [],
   "source": [
    "Tree Diagram:"
   ]
  },
  {
   "cell_type": "code",
   "execution_count": null,
   "id": "57790a40",
   "metadata": {},
   "outputs": [],
   "source": [
    "import plotly.graph_objects as go\n",
    "\n",
    "# Creating a tree diagram\n",
    "fig = go.Figure(go.Treemap(\n",
    "    labels=df.select(\"Product\").rdd.flatMap(lambda x: x).collect(),\n",
    "    parents=[''] * len(df.select(\"Product\").rdd.flatMap(lambda x: x).collect()),\n",
    "    values=df.select(\"Price\").rdd.flatMap(lambda x: x).collect(),\n",
    "))\n",
    "fig.update_layout(title=\"Tree Diagram: Product Hierarchy\")\n",
    "fig.show()\n"
   ]
  },
  {
   "cell_type": "code",
   "execution_count": null,
   "id": "aea42fd5",
   "metadata": {},
   "outputs": [],
   "source": [
    " visually appealing charts with dynamic options"
   ]
  },
  {
   "cell_type": "code",
   "execution_count": null,
   "id": "2327b6df",
   "metadata": {},
   "outputs": [],
   "source": [
    "import squarify\n",
    "\n",
    "# Converting the PySpark DataFrame to Pandas DataFrame\n",
    "pandas_df = df.toPandas()\n",
    "\n",
    "# Calculating the total sales by category\n",
    "sales_by_category = pandas_df.groupby(\"Category\")[\"Price\"].sum().reset_index()\n",
    "\n",
    "# Creating a treemap\n",
    "plt.figure(figsize=(8, 6))\n",
    "squarify.plot(sizes=sales_by_category[\"Price\"], label=sales_by_category[\"Category\"], alpha=0.8)\n",
    "plt.title(\"Treemap: Total Sales by Category\")\n",
    "plt.axis(\"off\")\n",
    "plt.show()\n"
   ]
  },
  {
   "cell_type": "code",
   "execution_count": null,
   "id": "2b42b941",
   "metadata": {},
   "outputs": [],
   "source": [
    "Network Graph:"
   ]
  },
  {
   "cell_type": "code",
   "execution_count": null,
   "id": "b740f903",
   "metadata": {},
   "outputs": [],
   "source": [
    "import networkx as nx\n",
    "import matplotlib.pyplot as plt\n",
    "\n",
    "# Converting the PySpark DataFrame to Pandas DataFrame\n",
    "pandas_df = df.toPandas()\n",
    "\n",
    "# Creating a network graph\n",
    "G = nx.from_pandas_edgelist(pandas_df, source=\"Product\", target=\"Category\")\n",
    "plt.figure(figsize=(10, 8))\n",
    "pos = nx.spring_layout(G, k=0.3)\n",
    "nx.draw_networkx(G, pos, with_labels=True, node_color=\"skyblue\", node_size=800, edge_color=\"gray\", linewidths=0.5, font_size=10)\n",
    "plt.title(\"Network Graph: Product-Category Relationships\")\n",
    "plt.show()\n"
   ]
  },
  {
   "cell_type": "code",
   "execution_count": null,
   "id": "26dfe71a",
   "metadata": {},
   "outputs": [],
   "source": []
  },
  {
   "cell_type": "code",
   "execution_count": null,
   "id": "3a0c17b6",
   "metadata": {},
   "outputs": [],
   "source": [
    "Animated Bar Chart:"
   ]
  },
  {
   "cell_type": "code",
   "execution_count": null,
   "id": "cef24ac2",
   "metadata": {},
   "outputs": [],
   "source": [
    "import matplotlib.animation as animation\n",
    "\n",
    "# Converting the PySpark DataFrame to Pandas DataFrame\n",
    "pandas_df = df.toPandas()\n",
    "\n",
    "# Sorting the data by price in descending order\n",
    "sorted_df = pandas_df.sort_values(\"Price\", ascending=False)\n",
    "\n",
    "# Creating an animated bar chart\n",
    "fig, ax = plt.subplots(figsize=(8, 6))\n",
    "\n",
    "def animate(i):\n",
    "    ax.clear()\n",
    "    ax.bar(sorted_df[\"Product\"].iloc[:i], sorted_df[\"Price\"].iloc[:i], color=\"skyblue\")\n",
    "    plt.xlabel(\"Product\")\n",
    "    plt.ylabel(\"Price\")\n",
    "    plt.title(\"Animated Bar Chart: Top Products by Price\")\n",
    "    plt.xticks(rotation=45, ha=\"right\")\n",
    "\n",
    "ani = animation.FuncAnimation(fig, animate, frames=len(sorted_df)+1, interval=200, blit=False)\n",
    "plt.show()\n"
   ]
  },
  {
   "cell_type": "code",
   "execution_count": null,
   "id": "ca8438eb",
   "metadata": {},
   "outputs": [],
   "source": [
    "3D Scatter Plot:"
   ]
  },
  {
   "cell_type": "code",
   "execution_count": null,
   "id": "df8be1a3",
   "metadata": {},
   "outputs": [],
   "source": [
    "import plotly.graph_objects as go\n",
    "\n",
    "# Converting the PySpark DataFrame to Pandas DataFrame\n",
    "pandas_df = df.toPandas()\n",
    "\n",
    "# Creating a 3D scatter plot\n",
    "fig = go.Figure(data=[go.Scatter3d(\n",
    "    x=pandas_df[\"Product\"],\n",
    "    y=pandas_df[\"Category\"],\n",
    "    z=pandas_df[\"Price\"],\n",
    "    mode=\"markers\",\n",
    "    marker=dict(\n",
    "        size=8,\n",
    "        color=pandas_df[\"Quantity\"],\n",
    "        colorscale=\"Viridis\",\n",
    "        opacity=0.8\n",
    "    )\n",
    ")])\n",
    "\n",
    "fig.update_layout(scene=dict(\n",
    "    xaxis_title=\"Product\",\n",
    "    yaxis_title=\"Category\",\n",
    "    zaxis_title=\"Price\"\n",
    "))\n",
    "\n",
    "fig.show()\n"
   ]
  },
  {
   "cell_type": "code",
   "execution_count": null,
   "id": "5d9090c1",
   "metadata": {},
   "outputs": [],
   "source": [
    "Interactive Word Cloud:"
   ]
  },
  {
   "cell_type": "code",
   "execution_count": null,
   "id": "89d4795a",
   "metadata": {},
   "outputs": [],
   "source": [
    "from wordcloud import WordCloud\n",
    "\n",
    "# Converting the PySpark DataFrame to Pandas DataFrame\n",
    "pandas_df = df.toPandas()\n",
    "\n",
    "# Generating word frequencies\n",
    "word_frequencies = pandas_df[\"Product\"].value_counts()\n",
    "\n",
    "# Creating an interactive word cloud\n",
    "wordcloud = WordCloud(width=800, height=400, colormap=\"Blues\").generate_from_frequencies(word_frequencies)\n",
    "plt.figure(figsize=(10, 6))\n",
    "plt.imshow(wordcloud, interpolation=\"bilinear\")\n",
    "plt.axis(\"off\")\n",
    "plt.title(\"Interactive Word Cloud: Product Frequencies\")\n",
    "plt.show()\n"
   ]
  },
  {
   "cell_type": "code",
   "execution_count": null,
   "id": "7d9ad9a7",
   "metadata": {},
   "outputs": [],
   "source": []
  },
  {
   "cell_type": "code",
   "execution_count": null,
   "id": "71a4abe8",
   "metadata": {},
   "outputs": [],
   "source": [
    "Animated Scatter Plot:"
   ]
  },
  {
   "cell_type": "code",
   "execution_count": null,
   "id": "c18fcbc4",
   "metadata": {},
   "outputs": [],
   "source": [
    "import plotly.graph_objects as go\n",
    "import pandas as pd\n",
    "\n",
    "# Converting the PySpark DataFrame to Pandas DataFrame\n",
    "pandas_df = df.select(\"Price\", \"Quantity\").toPandas()\n",
    "\n",
    "# Creating an animated scatter plot\n",
    "fig = go.Figure()\n",
    "\n",
    "for i in range(len(pandas_df)):\n",
    "    fig.add_trace(go.Scatter(\n",
    "        x=[pandas_df[\"Price\"][i]],\n",
    "        y=[pandas_df[\"Quantity\"][i]],\n",
    "        mode='markers',\n",
    "        marker=dict(\n",
    "            size=10,\n",
    "            color=pandas_df[\"Price\"][i],\n",
    "            colorscale='Viridis',\n",
    "            showscale=True\n",
    "        ),\n",
    "        showlegend=False\n",
    "    ))\n",
    "    fig.update_layout(title_text='Animated Scatter Plot: Price vs Quantity', xaxis_title=\"Price\", yaxis_title=\"Quantity\")\n",
    "\n",
    "fig.update_layout(\n",
    "    updatemenus=[dict(\n",
    "        type=\"buttons\",\n",
    "        buttons=[\n",
    "            dict(label=\"Play\",\n",
    "                 method=\"animate\",\n",
    "                 args=[None, {\"frame\": {\"duration\": 500, \"redraw\": True},\n",
    "                              \"fromcurrent\": True}]),\n",
    "            dict(label=\"Pause\",\n",
    "                 method=\"animate\",\n",
    "                 args=[[None], {\"frame\": {\"duration\": 0, \"redraw\": False},\n",
    "                                \"mode\": \"immediate\",\n",
    "                                \"fromcurrent\": True}])\n",
    "        ],\n",
    "        active=0,\n",
    "        showactive=False,\n",
    "        x=0.1,\n",
    "        y=0,\n",
    "        xanchor=\"left\",\n",
    "        yanchor=\"bottom\"\n",
    "    )]\n",
    ")\n",
    "\n",
    "fig.show()\n"
   ]
  },
  {
   "cell_type": "code",
   "execution_count": null,
   "id": "011e272d",
   "metadata": {},
   "outputs": [],
   "source": []
  },
  {
   "cell_type": "code",
   "execution_count": null,
   "id": "2c05d1b4",
   "metadata": {},
   "outputs": [],
   "source": [
    "Sunburst Chart with Animation:"
   ]
  },
  {
   "cell_type": "code",
   "execution_count": null,
   "id": "92d19cc6",
   "metadata": {},
   "outputs": [],
   "source": [
    "import plotly.graph_objects as go\n",
    "\n",
    "# Converting the PySpark DataFrame to Pandas DataFrame\n",
    "pandas_df = df.toPandas()\n",
    "\n",
    "# Creating a sunburst chart with animation\n",
    "fig = go.Figure()\n",
    "\n",
    "for i in range(len(pandas_df)):\n",
    "    fig.add_trace(go.Sunburst(\n",
    "        labels=pandas_df[\"Product\"][:i+1],\n",
    "        parents=pandas_df[\"Category\"][:i+1],\n",
    "        values=pandas_df[\"Price\"][:i+1],\n",
    "        branchvalues='total',\n",
    "    ))\n",
    "\n",
    "fig.update_layout(title=\"Animated Sunburst Chart: Price by Category and Product\")\n",
    "\n",
    "fig.update_layout(\n",
    "    updatemenus=[\n",
    "        dict(\n",
    "            buttons=list([\n",
    "                dict(\n",
    "                    args=[{\"visible\": [True] * len(pandas_df)}],\n",
    "                    label=\"Play\",\n",
    "                    method=\"update\"\n",
    "                ),\n",
    "                dict(\n",
    "                    args=[{\"visible\": [False] * len(pandas_df)}],\n",
    "                    label=\"Pause\",\n",
    "                    method=\"update\"\n",
    "                )\n",
    "            ]),\n",
    "            type=\"buttons\",\n",
    "            direction=\"left\",\n",
    "            x=0.1,\n",
    "            y=1.1\n",
    "        )\n",
    "    ]\n",
    ")\n",
    "\n",
    "fig.show()\n"
   ]
  },
  {
   "cell_type": "code",
   "execution_count": null,
   "id": "c5cc0b41",
   "metadata": {},
   "outputs": [],
   "source": []
  },
  {
   "cell_type": "code",
   "execution_count": null,
   "id": "76b8e173",
   "metadata": {},
   "outputs": [],
   "source": [
    "Animated Network Graph:"
   ]
  },
  {
   "cell_type": "code",
   "execution_count": null,
   "id": "3fca5334",
   "metadata": {},
   "outputs": [],
   "source": [
    "import networkx as nx\n",
    "import matplotlib.pyplot as plt\n",
    "import random\n",
    "import time\n",
    "\n",
    "# Converting the PySpark DataFrame to Pandas DataFrame\n",
    "pandas_df = df.toPandas()\n",
    "\n",
    "# Creating an animated network graph\n",
    "G = nx.Graph()\n",
    "\n",
    "for index, row in pandas_df.iterrows():\n",
    "    G.add_edge(row[\"Category\"], row[\"Product\"])\n",
    "\n",
    "pos = nx.spring_layout(G, k=0.15, seed=42)\n",
    "\n",
    "plt.figure(figsize=(12, 8))\n",
    "\n",
    "for _ in range(30):\n",
    "    random.seed(42)\n",
    "    nx.draw(G, pos, with_labels=True, node_size=800, node_color=[random.random() for _ in range(len(G.nodes))])\n",
    "    plt.title(\"Animated Network Graph: Product-Category Relationships\")\n",
    "    plt.pause(0.2)\n",
    "    plt.clf()\n",
    "\n",
    "plt.show()\n"
   ]
  },
  {
   "cell_type": "code",
   "execution_count": null,
   "id": "b70ef888",
   "metadata": {},
   "outputs": [],
   "source": [
    "Animated Radial Bar Chart:"
   ]
  },
  {
   "cell_type": "code",
   "execution_count": null,
   "id": "177e42f2",
   "metadata": {},
   "outputs": [],
   "source": [
    "import pandas as pd\n",
    "import matplotlib.pyplot as plt\n",
    "import matplotlib.animation as animation\n",
    "\n",
    "# Converting the PySpark DataFrame to Pandas DataFrame\n",
    "pandas_df = df.toPandas()\n",
    "\n",
    "# Aggregating data by category\n",
    "category_df = pandas_df.groupby(\"Category\").sum().reset_index()\n",
    "\n",
    "# Sorting the data by price in descending order\n",
    "sorted_df = category_df.sort_values(\"Price\", ascending=False)\n",
    "\n",
    "# Creating an animated radial bar chart\n",
    "fig, ax = plt.subplots(figsize=(8, 8))\n",
    "bars = ax.bar(sorted_df[\"Category\"], sorted_df[\"Price\"], color=\"skyblue\")\n",
    "\n",
    "def update(frame):\n",
    "    for i, bar in enumerate(bars):\n",
    "        bar.set_height(sorted_df[\"Price\"].iloc[i] / (frame + 1))\n",
    "\n",
    "ani = animation.FuncAnimation(fig, update, frames=sorted_df.shape[0], interval=500, blit=False)\n",
    "plt.xlabel(\"Category\")\n",
    "plt.ylabel(\"Price\")\n",
    "plt.title(\"Animated Radial Bar Chart: Price by Category\")\n",
    "plt.show()\n"
   ]
  },
  {
   "cell_type": "code",
   "execution_count": null,
   "id": "f28eb465",
   "metadata": {},
   "outputs": [],
   "source": []
  },
  {
   "cell_type": "code",
   "execution_count": null,
   "id": "959c682e",
   "metadata": {},
   "outputs": [],
   "source": []
  },
  {
   "cell_type": "code",
   "execution_count": null,
   "id": "cb47f622",
   "metadata": {},
   "outputs": [],
   "source": []
  },
  {
   "cell_type": "code",
   "execution_count": null,
   "id": "38d97209",
   "metadata": {},
   "outputs": [],
   "source": []
  }
 ],
 "metadata": {
  "kernelspec": {
   "display_name": "Python 3 (ipykernel)",
   "language": "python",
   "name": "python3"
  },
  "language_info": {
   "codemirror_mode": {
    "name": "ipython",
    "version": 3
   },
   "file_extension": ".py",
   "mimetype": "text/x-python",
   "name": "python",
   "nbconvert_exporter": "python",
   "pygments_lexer": "ipython3",
   "version": "3.10.9"
  }
 },
 "nbformat": 4,
 "nbformat_minor": 5
}
